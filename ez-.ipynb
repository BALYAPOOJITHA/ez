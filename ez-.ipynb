{
 "cells": [
  {
   "cell_type": "code",
   "execution_count": 9,
   "id": "6a0ac720",
   "metadata": {},
   "outputs": [
    {
     "name": "stdout",
     "output_type": "stream",
     "text": [
      "6\n",
      "101000\n",
      "0\n"
     ]
    }
   ],
   "source": [
    "n=int(input())\n",
    "bina=str(input())\n",
    "max1=0\n",
    "count=0\n",
    "for i in range (0,n):\n",
    "    if(bina[i]==0 and i<=n):\n",
    "        i=i+1\n",
    "        while(bina[i]==1 and i<=n):\n",
    "            count=count+1\n",
    "            i=i+1\n",
    "        if(max1<count):\n",
    "            max=count\n",
    "    else:\n",
    "        i=i+1\n",
    "print(max1)\n",
    "    \n",
    "        \n",
    "\n"
   ]
  },
  {
   "cell_type": "code",
   "execution_count": 16,
   "id": "ccfef7e3",
   "metadata": {},
   "outputs": [
    {
     "name": "stdout",
     "output_type": "stream",
     "text": [
      "200\n",
      "540\n",
      "130 70\n"
     ]
    }
   ],
   "source": [
    "v=int(input())\n",
    "w=int(input())\n",
    "if(w==1 and w<2 and w<=v):\n",
    "    print(\"INVALID INPUT\")\n",
    "else:\n",
    "    q=((4*v)-w)//2\n",
    "    print(q,v-q)\n"
   ]
  },
  {
   "cell_type": "markdown",
   "id": "5d5d69a3",
   "metadata": {},
   "source": [
    "## "
   ]
  },
  {
   "cell_type": "code",
   "execution_count": 32,
   "id": "97d55a4f",
   "metadata": {},
   "outputs": [
    {
     "name": "stdout",
     "output_type": "stream",
     "text": [
      "inorder traversal\n",
      "10\n",
      "11\n",
      "12\n",
      "13\n",
      "14\n",
      "15\n",
      "16\n",
      "17\n",
      "18\n",
      "19\n",
      "21\n"
     ]
    }
   ],
   "source": [
    "class bt:\n",
    "    def __init__(self,data):\n",
    "        self.data=data\n",
    "        self.lc=None\n",
    "        self.rc=None\n",
    "def insert(root,newvalue):\n",
    "    if root is None:\n",
    "        root=bt(newvalue)\n",
    "        return root\n",
    "    if newvalue<root.data:\n",
    "        root.lc=insert(root.lc,newvalue)\n",
    "    else:\n",
    "        root.rc=insert(root.rc,newvalue)\n",
    "    return root\n",
    "def inorder(root):\n",
    "    if root==None:\n",
    "        return\n",
    "    inorder(root.lc)\n",
    "    print(root.data)\n",
    "    inorder(root.rc)\n",
    "        \n",
    "root=insert(None,15)\n",
    "insert(root,10)\n",
    "insert(root,12)\n",
    "insert(root,13)\n",
    "insert(root,14)\n",
    "insert(root,19)\n",
    "insert(root,16)\n",
    "insert(root,17)\n",
    "insert(root,18)\n",
    "insert(root,11)\n",
    "insert(root,21)\n",
    "print(\"inorder traversal\")\n",
    "inorder(root)\n",
    "\n"
   ]
  },
  {
   "cell_type": "code",
   "execution_count": 31,
   "id": "4bd65c6f",
   "metadata": {},
   "outputs": [
    {
     "name": "stdout",
     "output_type": "stream",
     "text": [
      "Inorder traversal of a bst\n",
      "98\n",
      "55\n",
      "24\n",
      "22\n",
      "15\n",
      "14\n",
      "10\n",
      "5\n"
     ]
    }
   ],
   "source": [
    "class bt:\n",
    "    def __init__(self, data):\n",
    "        self.data= data\n",
    "        self.lc = None\n",
    "        self.rc = None\n",
    "def insert(root, newvalue):\n",
    "    if root is None:\n",
    "        root = bt(newvalue)\n",
    "        return root\n",
    "    if newvalue>root.data:\n",
    "        root.lc=insert(root.lc, newvalue)\n",
    "    else:\n",
    "        root.rc=insert(root.rc, newvalue)\n",
    "    return root\n",
    "def inorder(root):\n",
    "    if root == None:\n",
    "        return\n",
    "    inorder(root.lc)\n",
    "    print(root.data)\n",
    "    inorder(root.rc)\n",
    "root = insert(None, 15)\n",
    "insert(root, 10)\n",
    "insert(root, 24)\n",
    "insert(root, 5)\n",
    "insert(root, 14)\n",
    "insert(root, 22)\n",
    "insert(root, 55)\n",
    "insert(root, 98)\n",
    "print(\"Inorder traversal of a bst\")\n",
    "inorder(root)"
   ]
  },
  {
   "cell_type": "code",
   "execution_count": 3,
   "id": "9a3c1ccd",
   "metadata": {},
   "outputs": [
    {
     "ename": "SyntaxError",
     "evalue": "invalid syntax (Temp/ipykernel_18948/3434016351.py, line 9)",
     "output_type": "error",
     "traceback": [
      "\u001b[1;36m  File \u001b[1;32m\"C:\\Users\\saipo\\AppData\\Local\\Temp/ipykernel_18948/3434016351.py\"\u001b[1;36m, line \u001b[1;32m9\u001b[0m\n\u001b[1;33m    if __name__='__main__'\u001b[0m\n\u001b[1;37m               ^\u001b[0m\n\u001b[1;31mSyntaxError\u001b[0m\u001b[1;31m:\u001b[0m invalid syntax\n"
     ]
    }
   ],
   "source": [
    "Jupyter Notebook\n",
    "ez-\n",
    "Last Checkpoint: 01/02/2023\n",
    "(unsaved changes)\n",
    "Current Kernel Logo\n",
    "Python 3 (ipykernel) \n",
    "File\n",
    "Edit\n",
    "View\n",
    "Insert\n",
    "Cell\n",
    "Kernel\n",
    "Widgets\n",
    "Help\n",
    "\n",
    "Code\n",
    "n=int(input())\n",
    "bina=str(input())\n",
    "max1=0\n",
    "count=0\n",
    "for i in range (0,n):\n",
    "    if(bina[i]==0 and i<=n):\n",
    "        i=i+1\n",
    "        while(bina[i]==1 and i<=n):\n",
    "            count=count+1\n",
    "            i=i+1\n",
    "        if(max1<count):\n",
    "            max=count\n",
    "    else:\n",
    "        i=i+1\n",
    "print(max1)\n",
    "    \n",
    "        \n",
    "​\n",
    "​\n",
    "6\n",
    "101000\n",
    "0\n",
    "v=int(input())\n",
    "w=int(input())\n",
    "if(w==1 and w<2 and w<=v):\n",
    "    print(\"INVALID INPUT\")\n",
    "else:\n",
    "    q=((4*v)-w)//2\n",
    "    print(q,v-q)\n",
    "​\n",
    "200\n",
    "540\n",
    "130 70\n",
    "class bt:\n",
    "    def __init__(self,data):\n",
    "        self.data=data\n",
    "        self.lc=None\n",
    "        self.rc=None\n",
    "def insert(root,newvalue):\n",
    "    if root is None:\n",
    "        root=bt(newvalue)\n",
    "        return root\n",
    "    if newvalue<root.data:\n",
    "        root.lc=insert(root.lc,newvalue)\n",
    "    else:\n",
    "        root.rc=insert(root.rc,newvalue)\n",
    "    return root\n",
    "def inorder(root):\n",
    "    if root==None:\n",
    "        return\n",
    "    inorder(root.lc)\n",
    "    print(root.data)\n",
    "    inorder(root.rc)\n",
    "        \n",
    "root=insert(None,15)\n",
    "insert(root,10)\n",
    "insert(root,12)\n",
    "insert(root,13)\n",
    "insert(root,14)\n",
    "insert(root,19)\n",
    "insert(root,16)\n",
    "insert(root,17)\n",
    "insert(root,18)\n",
    "insert(root,11)\n",
    "insert(root,21)\n",
    "print(\"inorder traversal\")\n",
    "inorder(root)\n",
    "​\n",
    "​\n",
    "inorder traversal\n",
    "10\n",
    "11\n",
    "12\n",
    "13\n",
    "14\n",
    "15\n",
    "16\n",
    "17\n",
    "18\n",
    "19\n",
    "21\n",
    "class bt:\n",
    "    def __init__(self, data):\n",
    "        self.data= data\n",
    "        self.lc = None\n",
    "        self.rc = None\n",
    "def insert(root, newvalue):\n",
    "    if root is None:\n",
    "        root = bt(newvalue)\n",
    "        return root\n",
    "    if newvalue>root.data:\n",
    "        root.lc=insert(root.lc, newvalue)\n",
    "    else:\n",
    "        root.rc=insert(root.rc, newvalue)\n",
    "    return root\n",
    "def inorder(root):\n",
    "    if root == None:\n",
    "        return\n",
    "    inorder(root.lc)\n",
    "    print(root.data)\n",
    "    inorder(root.rc)\n",
    "root = insert(None, 15)\n",
    "insert(root, 10)\n",
    "insert(root, 24)\n",
    "insert(root, 5)\n",
    "insert(root, 14)\n",
    "insert(root, 22)\n",
    "insert(root, 55)\n",
    "insert(root, 98)\n",
    "print(\"Inorder traversal of a bst\")\n",
    "inorder(root)\n",
    "Inorder traversal of a bst\n",
    "98\n",
    "55\n",
    "24\n",
    "22\n",
    "15\n",
    "14\n",
    "10\n",
    "5\n",
    "class node:\n",
    "    def __init__(self,key,l=None,r=None):\n",
    "        self.key=key\n",
    "        self.l=l\n",
    "        self.r=r\n",
    "def vot(node,dist,d):\n",
    "    if node is None:\n",
    "        print(value)\n",
    "if __name__='__main__':\n",
    "    root=Node(1)\n",
    "    root.l=Node(2)\n",
    "    root.r=Node(2)\n",
    "    root.r.l=Node(2)\n",
    "    root.r.r=Node(2)+\n",
    "    root.r.l.l=Node(2)\n",
    "    root.r.l.r=Node(2)\n",
    "    pvot(root)\n",
    "        \n",
    "        \n",
    "  File \"C:\\Users\\saipo\\AppData\\Local\\Temp/ipykernel_18948/3434016351.py\", line 9\n",
    "    if __name__='__main__'\n",
    "               ^\n",
    "SyntaxError: invalid syntax\n",
    "\n",
    "\n",
    "class node:\n",
    "    def__init__(self,key):\n",
    "        self.data\n",
    "  print(\"this is greater\",c)\n",
    "a=int(input())\n",
    "b=int(input())\n",
    "c=int(input())\n",
    "if(a>b):\n",
    "    if(a>c):\n",
    "        print(\"this is greater\",a)\n",
    "    else:\n",
    "        print(\"this is greater\",c)\n",
    "else:\n",
    "    if(b>c):\n",
    "        print(\"this is greater\",b)\n",
    "    else:\n",
    "        print(\"this is greater\",c)\n",
    "10\n",
    "20\n",
    "30\n",
    "class node:\n",
    "    def __init__(self,key,l=None,r=None):\n",
    "        self.key=key\n",
    "        self.l=l\n",
    "        self.r=r\n",
    "def vot(node,dist,d):\n",
    "    if node is None:\n",
    "        print(value)\n",
    "if __name__='__main__':\n",
    "    root=Node(1)\n",
    "    root.l=Node(2)\n",
    "    root.r=Node(2)\n",
    "    root.r.l=Node(2)\n",
    "    root.r.r=Node(2)+\n",
    "    root.r.l.l=Node(2)\n",
    "    root.r.l.r=Node(2)\n",
    "    pvot(root)\n",
    "        \n",
    "        "
   ]
  },
  {
   "cell_type": "code",
   "execution_count": null,
   "id": "57386824",
   "metadata": {},
   "outputs": [],
   "source": [
    "class node:\n",
    "    def__init__(self,key):\n",
    "        self.data"
   ]
  },
  {
   "cell_type": "code",
   "execution_count": 3,
   "id": "26e4a403",
   "metadata": {},
   "outputs": [
    {
     "name": "stdout",
     "output_type": "stream",
     "text": [
      "10\n",
      "20\n",
      "30\n",
      "this is greater 30\n"
     ]
    }
   ],
   "source": [
    "a=int(input())\n",
    "b=int(input())\n",
    "c=int(input())\n",
    "if(a>b):\n",
    "    if(a>c):\n",
    "        print(\"this is greater\",a)\n",
    "    else:\n",
    "        print(\"this is greater\",c)\n",
    "else:\n",
    "    if(b>c):\n",
    "        print(\"this is greater\",b)\n",
    "    else:\n",
    "        print(\"this is greater\",c)"
   ]
  },
  {
   "cell_type": "code",
   "execution_count": 7,
   "id": "e3d4e82e",
   "metadata": {},
   "outputs": [
    {
     "name": "stdout",
     "output_type": "stream",
     "text": [
      "10\n",
      "10\n",
      "10\n",
      "same numbers\n"
     ]
    }
   ],
   "source": [
    "a=int(input())\n",
    "b=int(input())\n",
    "c=int(input())\n",
    "if(a>b and a>c):\n",
    "    print(a)\n",
    "elif(b>c and b>a):\n",
    "    print(b)\n",
    "elif(a==b and b==c and c==a):\n",
    "    print(\"same numbers\")\n",
    "else:\n",
    "    print(c)"
   ]
  },
  {
   "cell_type": "code",
   "execution_count": 19,
   "id": "9af3202b",
   "metadata": {},
   "outputs": [
    {
     "name": "stdout",
     "output_type": "stream",
     "text": [
      "4\n",
      "\n",
      "\n",
      "1 \n",
      "\n",
      "1 2 \n",
      "\n",
      "1 2 3 \n",
      "\n",
      "1 2 3 4 "
     ]
    }
   ],
   "source": [
    "n=int(input())\n",
    "for i in range(1,n+1):\n",
    "    print(\"\\n\")\n",
    "    for j in range(1,i+1):\n",
    "        print(j,end=\" \")"
   ]
  },
  {
   "cell_type": "code",
   "execution_count": 20,
   "id": "51107dcd",
   "metadata": {},
   "outputs": [
    {
     "name": "stdout",
     "output_type": "stream",
     "text": [
      "4\n",
      "\n",
      "\n",
      "* \n",
      "\n",
      "* * \n",
      "\n",
      "* * * \n",
      "\n",
      "* * * * "
     ]
    }
   ],
   "source": [
    "n=int(input())\n",
    "for i in range(1,n+1):\n",
    "    print(\"\\n\")\n",
    "    for j in range(1,i+1):\n",
    "        print('*',end=\" \")"
   ]
  },
  {
   "cell_type": "code",
   "execution_count": 1,
   "id": "0275824c",
   "metadata": {},
   "outputs": [
    {
     "name": "stdout",
     "output_type": "stream",
     "text": [
      "6\n",
      "720\n"
     ]
    }
   ],
   "source": [
    "def fact(n):\n",
    "    if(n==1):\n",
    "        return 1\n",
    "    else:\n",
    "        return n*fact(n-1)\n",
    "n=int(input())\n",
    "q=fact(n)\n",
    "print(q)"
   ]
  },
  {
   "cell_type": "code",
   "execution_count": 2,
   "id": "38776b4a",
   "metadata": {},
   "outputs": [
    {
     "name": "stdout",
     "output_type": "stream",
     "text": [
      "1 1 2 3 5 8 13 21 34 "
     ]
    }
   ],
   "source": [
    "def fib(n):\n",
    "    if(n<2):\n",
    "        return 1\n",
    "    else:\n",
    "        return (fib(n-1)+fib(n-2))\n",
    "\n",
    "for i in range(9):\n",
    "    k=fib(i)\n",
    "    if(k<50):\n",
    "        print(fib(i),end=\" \")\n",
    "    else:\n",
    "        break"
   ]
  },
  {
   "cell_type": "code",
   "execution_count": 7,
   "id": "0431b5f3",
   "metadata": {},
   "outputs": [
    {
     "name": "stdout",
     "output_type": "stream",
     "text": [
      "0 1 1 2 3 5 8 13 21 "
     ]
    }
   ],
   "source": [
    "\n",
    "def fib(n):\n",
    "    if(n<2):\n",
    "        return n\n",
    "    else:\n",
    "        return (fib(n-1)+fib(n-2))\n",
    "for i in range(9):\n",
    "    print(fib(i),end=\" \")\n",
    "    "
   ]
  },
  {
   "cell_type": "code",
   "execution_count": 4,
   "id": "68559d2d",
   "metadata": {},
   "outputs": [
    {
     "name": "stdout",
     "output_type": "stream",
     "text": [
      "poojitha\n"
     ]
    },
    {
     "ename": "AttributeError",
     "evalue": "'student' object has no attribute '__rollno'",
     "output_type": "error",
     "traceback": [
      "\u001b[1;31m---------------------------------------------------------------------------\u001b[0m",
      "\u001b[1;31mAttributeError\u001b[0m                            Traceback (most recent call last)",
      "\u001b[1;32m~\\AppData\\Local\\Temp/ipykernel_10096/3337381276.py\u001b[0m in \u001b[0;36m<module>\u001b[1;34m\u001b[0m\n\u001b[0;32m      9\u001b[0m \u001b[0mprint\u001b[0m\u001b[1;33m(\u001b[0m\u001b[0mobj\u001b[0m\u001b[1;33m.\u001b[0m\u001b[0mname\u001b[0m\u001b[1;33m)\u001b[0m\u001b[1;33m\u001b[0m\u001b[1;33m\u001b[0m\u001b[0m\n\u001b[0;32m     10\u001b[0m \u001b[0mobj\u001b[0m\u001b[1;33m.\u001b[0m\u001b[0mnewvalue\u001b[0m\u001b[1;33m=\u001b[0m\u001b[1;36m20\u001b[0m\u001b[1;33m\u001b[0m\u001b[1;33m\u001b[0m\u001b[0m\n\u001b[1;32m---> 11\u001b[1;33m \u001b[0mprint\u001b[0m\u001b[1;33m(\u001b[0m\u001b[0mobj\u001b[0m\u001b[1;33m.\u001b[0m\u001b[0m__rollno\u001b[0m\u001b[1;33m)\u001b[0m\u001b[1;33m\u001b[0m\u001b[1;33m\u001b[0m\u001b[0m\n\u001b[0m",
      "\u001b[1;31mAttributeError\u001b[0m: 'student' object has no attribute '__rollno'"
     ]
    }
   ],
   "source": [
    "class student:\n",
    "    name=\"poojitha\"\n",
    "    __rollno=100\n",
    "    def get_rollno(self):\n",
    "        return self.__rollno\n",
    "    def set_rollno(self,newvalue):\n",
    "        self.__rollno=newvalue\n",
    "obj=student()\n",
    "print(obj.name)\n",
    "obj.newvalue=20\n",
    "print(obj.__rollno)"
   ]
  },
  {
   "cell_type": "code",
   "execution_count": 6,
   "id": "dd749bfe",
   "metadata": {},
   "outputs": [
    {
     "name": "stdout",
     "output_type": "stream",
     "text": [
      "in class a\n",
      "None\n"
     ]
    }
   ],
   "source": [
    "class a:\n",
    "    def m1(self):\n",
    "        print(\"in class a\")\n",
    "class b:\n",
    "    def m1(self):\n",
    "        print(\"in class a\")\n",
    "class child(a,b):\n",
    "    pass\n",
    "ob=child()\n",
    "print(ob.m1())\n",
    "    "
   ]
  },
  {
   "cell_type": "code",
   "execution_count": 19,
   "id": "c7c78c83",
   "metadata": {},
   "outputs": [
    {
     "name": "stdout",
     "output_type": "stream",
     "text": [
      "2\n",
      "po\n",
      "12\n",
      "poi\n",
      "123\n",
      "[{'po': '12'}, {'poi': '123'}]\n",
      "po\n",
      "12\n",
      "valid\n"
     ]
    }
   ],
   "source": [
    "dict1={}\n",
    "arr=[]\n",
    "a=int(input())\n",
    "for i in range(a):\n",
    "    username=input()\n",
    "    passw=input()\n",
    "    arr.append({username:passw})\n",
    "    \n",
    "print(arr)\n",
    "val=input()\n",
    "pa=input()\n",
    "found=False\n",
    "for obj in arr:\n",
    "    try:\n",
    "        password=obj[val]\n",
    "        found=True\n",
    "        if(pa==password):\n",
    "            print(\"valid\")\n",
    "        else:\n",
    "            print(\"invalid\")\n",
    "    except:\n",
    "        pass\n",
    "if found==False:\n",
    "    print(\"not found\")\n",
    "\n",
    "\n",
    "    "
   ]
  },
  {
   "cell_type": "markdown",
   "id": "e0565da9",
   "metadata": {},
   "source": [
    "p## \n"
   ]
  },
  {
   "cell_type": "code",
   "execution_count": null,
   "id": "134d8c07",
   "metadata": {},
   "outputs": [],
   "source": [
    "\n",
    "queuw=[]\n",
    "queue.append(1)\n",
    "queue.append(2)\n",
    "queue."
   ]
  }
 ],
 "metadata": {
  "kernelspec": {
   "display_name": "Python 3 (ipykernel)",
   "language": "python",
   "name": "python3"
  },
  "language_info": {
   "codemirror_mode": {
    "name": "ipython",
    "version": 3
   },
   "file_extension": ".py",
   "mimetype": "text/x-python",
   "name": "python",
   "nbconvert_exporter": "python",
   "pygments_lexer": "ipython3",
   "version": "3.9.7"
  }
 },
 "nbformat": 4,
 "nbformat_minor": 5
}
