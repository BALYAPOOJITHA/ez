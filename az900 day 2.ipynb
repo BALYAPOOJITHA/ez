{
 "cells": [
  {
   "cell_type": "code",
   "execution_count": 1,
   "id": "739788f8",
   "metadata": {},
   "outputs": [],
   "source": [
    "def printme(str):\n",
    "    print(str)\n",
    "    return\n"
   ]
  },
  {
   "cell_type": "code",
   "execution_count": 2,
   "id": "94cec0fc",
   "metadata": {},
   "outputs": [
    {
     "name": "stdout",
     "output_type": "stream",
     "text": [
      "helloworld\n"
     ]
    }
   ],
   "source": [
    "printme(\"helloworld\")"
   ]
  },
  {
   "cell_type": "code",
   "execution_count": 5,
   "id": "3ffaf87f",
   "metadata": {},
   "outputs": [],
   "source": [
    "def changeme(mylist):\n",
    "    mylist.append([1,2,3])\n",
    "    print(mylist)\n",
    "    return"
   ]
  },
  {
   "cell_type": "code",
   "execution_count": 6,
   "id": "d8ba1059",
   "metadata": {},
   "outputs": [
    {
     "name": "stdout",
     "output_type": "stream",
     "text": [
      "[5, 6, 7, [1, 2, 3]]\n"
     ]
    },
    {
     "data": {
      "text/plain": [
       "[5, 6, 7, [1, 2, 3]]"
      ]
     },
     "execution_count": 6,
     "metadata": {},
     "output_type": "execute_result"
    }
   ],
   "source": [
    "mylist=[5,6,7]\n",
    "changeme(mylist)\n",
    "mylist"
   ]
  },
  {
   "cell_type": "code",
   "execution_count": 7,
   "id": "c7e22451",
   "metadata": {},
   "outputs": [
    {
     "name": "stdout",
     "output_type": "stream",
     "text": [
      "sai\n"
     ]
    }
   ],
   "source": [
    "#requried argument\n",
    "def printme(str):\n",
    "    print(str)\n",
    "    return\n",
    "printme(\"sai\")"
   ]
  },
  {
   "cell_type": "code",
   "execution_count": 8,
   "id": "e06f99ab",
   "metadata": {},
   "outputs": [
    {
     "name": "stdout",
     "output_type": "stream",
     "text": [
      "sai\n"
     ]
    }
   ],
   "source": [
    "#2 keyword argument\n",
    "#requried argument\n",
    "def printme(str):\n",
    "    print(str)\n",
    "    return\n",
    "printme(str=\"sai\")"
   ]
  },
  {
   "cell_type": "code",
   "execution_count": 10,
   "id": "ccc49fdd",
   "metadata": {},
   "outputs": [
    {
     "name": "stdout",
     "output_type": "stream",
     "text": [
      "name: aaisha\n",
      "age: 50\n",
      "name: akansha\n",
      "age: 30\n"
     ]
    }
   ],
   "source": [
    "#3 default argument\n",
    "def info(name,age=30):\n",
    "    print(\"name:\",name)\n",
    "    print(\"age:\",age)\n",
    "    return\n",
    "info(\"aaisha\",50)\n",
    "info(\"akansha\",30)"
   ]
  },
  {
   "cell_type": "markdown",
   "id": "78674f3c",
   "metadata": {},
   "source": [
    "#variable length argument\n"
   ]
  },
  {
   "cell_type": "code",
   "execution_count": 12,
   "id": "56596eb5",
   "metadata": {},
   "outputs": [
    {
     "name": "stdout",
     "output_type": "stream",
     "text": [
      "10\n",
      "20\n",
      "30\n",
      "40\n"
     ]
    }
   ],
   "source": [
    "def printinfo(arg1,*tuple1):\n",
    "    print(arg1)\n",
    "    for x in tuple1:\n",
    "        print(x)\n",
    "    return\n",
    "printinfo(10,20,30,40)"
   ]
  },
  {
   "cell_type": "code",
   "execution_count": 13,
   "id": "f54e44c9",
   "metadata": {},
   "outputs": [
    {
     "name": "stdout",
     "output_type": "stream",
     "text": [
      "30\n"
     ]
    }
   ],
   "source": [
    "x=lambda a,b:a*b\n",
    "#call and print anonymous function\n",
    "print(x(5,6))"
   ]
  },
  {
   "cell_type": "code",
   "execution_count": 15,
   "id": "bc3782f7",
   "metadata": {},
   "outputs": [
    {
     "name": "stdout",
     "output_type": "stream",
     "text": [
      "inside function 30\n",
      "outside function 30\n"
     ]
    }
   ],
   "source": [
    "#return statment\n",
    "def sum(arg1,arg2):\n",
    "    total=arg1+arg2\n",
    "    print(\"inside function\",total)\n",
    "    return total\n",
    "#sum(10,20)\n",
    "total=sum(10,20)\n",
    "print(\"outside function\",total)"
   ]
  },
  {
   "cell_type": "code",
   "execution_count": 16,
   "id": "2811c148",
   "metadata": {},
   "outputs": [
    {
     "name": "stdout",
     "output_type": "stream",
     "text": [
      "inside function 30\n",
      "outside function 0\n"
     ]
    }
   ],
   "source": [
    "#return statment\n",
    "total=0\n",
    "def sum(arg1,arg2):\n",
    "    total=arg1+arg2\n",
    "    print(\"inside function\",total)\n",
    "    return total\n",
    "sum(10,20)\n",
    "#total=sum(10,20)\n",
    "print(\"outside function\",total)"
   ]
  },
  {
   "cell_type": "code",
   "execution_count": 18,
   "id": "42ca81ef",
   "metadata": {},
   "outputs": [
    {
     "name": "stdout",
     "output_type": "stream",
     "text": [
      "Help on function square in module __main__:\n",
      "\n",
      "square(a)\n",
      "    this is a doc string square function\n",
      "\n"
     ]
    }
   ],
   "source": [
    "#doc string\n",
    "def square(a):\n",
    "    \"this is a doc string square function\"\n",
    "    return a*a\n",
    "#print(square.__doc__)\n",
    "help(square)\n"
   ]
  },
  {
   "cell_type": "code",
   "execution_count": 19,
   "id": "bca95f32",
   "metadata": {},
   "outputs": [],
   "source": [
    "class employee:\n",
    "    \"some docstring\"\n",
    "    id=10\n",
    "    name=\"devansh\"\n",
    "    def display(self):\n",
    "        print(self.id)\n",
    "        print(self.name)"
   ]
  },
  {
   "cell_type": "code",
   "execution_count": 21,
   "id": "8a9be27a",
   "metadata": {},
   "outputs": [
    {
     "name": "stdout",
     "output_type": "stream",
     "text": [
      "10\n",
      "devansh\n"
     ]
    }
   ],
   "source": [
    "emp=employee()\n",
    "emp.display()"
   ]
  },
  {
   "cell_type": "code",
   "execution_count": 22,
   "id": "0b269bf4",
   "metadata": {},
   "outputs": [],
   "source": [
    "#using the constructor\n",
    "class car:\n",
    "    def __init__(self,modelname,year):\n",
    "        self.modelname=modelname\n",
    "        self.year=year\n",
    "    def display(self):\n",
    "        print(\"the model nmae of the caRr is\",self.modelname)\n",
    "        print(\"the model year is:\",self.year)"
   ]
  },
  {
   "cell_type": "code",
   "execution_count": 24,
   "id": "4be9ec26",
   "metadata": {},
   "outputs": [
    {
     "name": "stdout",
     "output_type": "stream",
     "text": [
      "the model nmae of the caRr is toyota\n",
      "the model year is: 2018\n"
     ]
    }
   ],
   "source": [
    "c1=car(\"toyota\",2018)\n",
    "c1.display()"
   ]
  },
  {
   "cell_type": "code",
   "execution_count": 32,
   "id": "3b161f09",
   "metadata": {},
   "outputs": [
    {
     "name": "stdout",
     "output_type": "stream",
     "text": [
      "this is\n"
     ]
    }
   ],
   "source": [
    "#non parameterized constructor\n",
    "class student:\n",
    "    def __init__(self):\n",
    "        print(\"this is\")\n",
    "    def show(self,name):\n",
    "        self.name=name\n",
    "        print(self.name)\n",
    "st1=student()\n",
    "        "
   ]
  },
  {
   "cell_type": "code",
   "execution_count": 33,
   "id": "04bcfa0e",
   "metadata": {},
   "outputs": [
    {
     "name": "stdout",
     "output_type": "stream",
     "text": [
      "diksha\n"
     ]
    }
   ],
   "source": [
    "st1.show(\"diksha\")"
   ]
  },
  {
   "cell_type": "code",
   "execution_count": 37,
   "id": "843ef78e",
   "metadata": {},
   "outputs": [
    {
     "name": "stdout",
     "output_type": "stream",
     "text": [
      "23\n",
      "True\n",
      "False\n",
      "None\n",
      "__main__\n",
      "{'__module__': '__main__', '__init__': <function student.__init__ at 0x00000227EAE4CA60>, '__dict__': <attribute '__dict__' of 'student' objects>, '__weakref__': <attribute '__weakref__' of 'student' objects>, '__doc__': None}\n"
     ]
    }
   ],
   "source": [
    "#built in oops function\n",
    "class student:\n",
    "    def __init__(self,name,id,age):\n",
    "        self.name=name\n",
    "        self.age=age\n",
    "        self.id=id\n",
    "        \n",
    "s=student(\"aj\",1001,23)\n",
    "#1 get attribute\n",
    "print(getattr(s,\"age\"))\n",
    "#2 has attribute\n",
    "print(hasattr(s,\"age\"))\n",
    "# 3 del attr\n",
    "\n",
    "delattr(s,\"age\")\n",
    "\n",
    "print(hasattr(s,\"age\"))\n",
    "print(student.__doc__)\n",
    "print(student.__module__)\n",
    "print(student.__dict__)\n",
    "    \n"
   ]
  },
  {
   "cell_type": "code",
   "execution_count": null,
   "id": "e8a68db7",
   "metadata": {},
   "outputs": [],
   "source": []
  },
  {
   "cell_type": "code",
   "execution_count": null,
   "id": "df8f0fe1",
   "metadata": {},
   "outputs": [],
   "source": []
  }
 ],
 "metadata": {
  "kernelspec": {
   "display_name": "Python 3 (ipykernel)",
   "language": "python",
   "name": "python3"
  },
  "language_info": {
   "codemirror_mode": {
    "name": "ipython",
    "version": 3
   },
   "file_extension": ".py",
   "mimetype": "text/x-python",
   "name": "python",
   "nbconvert_exporter": "python",
   "pygments_lexer": "ipython3",
   "version": "3.9.7"
  }
 },
 "nbformat": 4,
 "nbformat_minor": 5
}
