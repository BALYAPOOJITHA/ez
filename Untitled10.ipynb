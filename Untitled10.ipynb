{
 "cells": [
  {
   "cell_type": "code",
   "execution_count": 2,
   "id": "e72b812f",
   "metadata": {},
   "outputs": [],
   "source": [
    "import pandas as pd"
   ]
  },
  {
   "cell_type": "code",
   "execution_count": 3,
   "id": "f5e0d0c2",
   "metadata": {},
   "outputs": [
    {
     "data": {
      "text/plain": [
       "'1.3.4'"
      ]
     },
     "execution_count": 3,
     "metadata": {},
     "output_type": "execute_result"
    }
   ],
   "source": [
    "pd.__version__"
   ]
  },
  {
   "cell_type": "code",
   "execution_count": 4,
   "id": "ba8cbe53",
   "metadata": {},
   "outputs": [
    {
     "name": "stdout",
     "output_type": "stream",
     "text": [
      "{'car': ['bmw', 'ford', 'volvo'], 'passing': [3, 7, 4]}\n"
     ]
    }
   ],
   "source": [
    "SR_DB={\n",
    "    'car':['bmw','ford','volvo'],\n",
    "    'passing':[3,7,4]\n",
    "}\n",
    "print(SR_DB)"
   ]
  },
  {
   "cell_type": "code",
   "execution_count": 5,
   "id": "b69777c8",
   "metadata": {},
   "outputs": [
    {
     "data": {
      "text/html": [
       "<div>\n",
       "<style scoped>\n",
       "    .dataframe tbody tr th:only-of-type {\n",
       "        vertical-align: middle;\n",
       "    }\n",
       "\n",
       "    .dataframe tbody tr th {\n",
       "        vertical-align: top;\n",
       "    }\n",
       "\n",
       "    .dataframe thead th {\n",
       "        text-align: right;\n",
       "    }\n",
       "</style>\n",
       "<table border=\"1\" class=\"dataframe\">\n",
       "  <thead>\n",
       "    <tr style=\"text-align: right;\">\n",
       "      <th></th>\n",
       "      <th>car</th>\n",
       "      <th>passing</th>\n",
       "    </tr>\n",
       "  </thead>\n",
       "  <tbody>\n",
       "    <tr>\n",
       "      <th>0</th>\n",
       "      <td>bmw</td>\n",
       "      <td>3</td>\n",
       "    </tr>\n",
       "    <tr>\n",
       "      <th>1</th>\n",
       "      <td>ford</td>\n",
       "      <td>7</td>\n",
       "    </tr>\n",
       "    <tr>\n",
       "      <th>2</th>\n",
       "      <td>volvo</td>\n",
       "      <td>4</td>\n",
       "    </tr>\n",
       "  </tbody>\n",
       "</table>\n",
       "</div>"
      ],
      "text/plain": [
       "     car  passing\n",
       "0    bmw        3\n",
       "1   ford        7\n",
       "2  volvo        4"
      ]
     },
     "execution_count": 5,
     "metadata": {},
     "output_type": "execute_result"
    }
   ],
   "source": [
    "pd.DataFrame(SR_DB)"
   ]
  },
  {
   "cell_type": "code",
   "execution_count": 6,
   "id": "4def88d7",
   "metadata": {},
   "outputs": [],
   "source": [
    "#series :1-d array"
   ]
  },
  {
   "cell_type": "code",
   "execution_count": 7,
   "id": "37757a4d",
   "metadata": {},
   "outputs": [
    {
     "name": "stdout",
     "output_type": "stream",
     "text": [
      "<class 'list'>\n",
      "0    a\n",
      "1    b\n",
      "2    c\n",
      "3    d\n",
      "dtype: object\n",
      "<class 'pandas.core.series.Series'>\n"
     ]
    }
   ],
   "source": [
    "arr=['a','b','c','d']\n",
    "print(type(arr))\n",
    "new_series=pd.Series(arr)\n",
    "print(new_series)\n",
    "print(type(new_series))"
   ]
  },
  {
   "cell_type": "code",
   "execution_count": 8,
   "id": "d3a068fa",
   "metadata": {},
   "outputs": [
    {
     "data": {
      "text/plain": [
       "'d'"
      ]
     },
     "execution_count": 8,
     "metadata": {},
     "output_type": "execute_result"
    }
   ],
   "source": [
    "#access the value\n",
    "new_series[3]"
   ]
  },
  {
   "cell_type": "code",
   "execution_count": 9,
   "id": "07928ffd",
   "metadata": {},
   "outputs": [],
   "source": [
    "#create labels \n"
   ]
  },
  {
   "cell_type": "code",
   "execution_count": 10,
   "id": "eda55033",
   "metadata": {},
   "outputs": [
    {
     "name": "stdout",
     "output_type": "stream",
     "text": [
      "['a', 'b', 'c', 'd']\n",
      "one      a\n",
      "two      b\n",
      "three    c\n",
      "four     d\n",
      "dtype: object\n"
     ]
    }
   ],
   "source": [
    "print(arr)\n",
    "labeledseries=pd.Series(arr,index=['one','two','three','four'])\n",
    "print(labeledseries)"
   ]
  },
  {
   "cell_type": "code",
   "execution_count": 12,
   "id": "036d0c97",
   "metadata": {},
   "outputs": [
    {
     "name": "stdout",
     "output_type": "stream",
     "text": [
      "a\n"
     ]
    }
   ],
   "source": [
    "#use loc function\n",
    "print(labeledseries.loc['one'])"
   ]
  },
  {
   "cell_type": "code",
   "execution_count": 13,
   "id": "55e6b207",
   "metadata": {},
   "outputs": [
    {
     "name": "stdout",
     "output_type": "stream",
     "text": [
      "{'phone': ['oppo', 'apple', 'samsung'], 'weight': [2, 1, 3]}\n"
     ]
    }
   ],
   "source": [
    "#create labeled dataframes\n",
    "phones={\n",
    "    'phone':['oppo','apple','samsung'],\n",
    "    'weight':[2,1,3]\n",
    "}\n",
    "print(phones)"
   ]
  },
  {
   "cell_type": "code",
   "execution_count": 14,
   "id": "7a5603f3",
   "metadata": {},
   "outputs": [
    {
     "data": {
      "text/html": [
       "<div>\n",
       "<style scoped>\n",
       "    .dataframe tbody tr th:only-of-type {\n",
       "        vertical-align: middle;\n",
       "    }\n",
       "\n",
       "    .dataframe tbody tr th {\n",
       "        vertical-align: top;\n",
       "    }\n",
       "\n",
       "    .dataframe thead th {\n",
       "        text-align: right;\n",
       "    }\n",
       "</style>\n",
       "<table border=\"1\" class=\"dataframe\">\n",
       "  <thead>\n",
       "    <tr style=\"text-align: right;\">\n",
       "      <th></th>\n",
       "      <th>phone</th>\n",
       "      <th>weight</th>\n",
       "    </tr>\n",
       "  </thead>\n",
       "  <tbody>\n",
       "    <tr>\n",
       "      <th>0</th>\n",
       "      <td>oppo</td>\n",
       "      <td>2</td>\n",
       "    </tr>\n",
       "    <tr>\n",
       "      <th>1</th>\n",
       "      <td>apple</td>\n",
       "      <td>1</td>\n",
       "    </tr>\n",
       "    <tr>\n",
       "      <th>2</th>\n",
       "      <td>samsung</td>\n",
       "      <td>3</td>\n",
       "    </tr>\n",
       "  </tbody>\n",
       "</table>\n",
       "</div>"
      ],
      "text/plain": [
       "     phone  weight\n",
       "0     oppo       2\n",
       "1    apple       1\n",
       "2  samsung       3"
      ]
     },
     "execution_count": 14,
     "metadata": {},
     "output_type": "execute_result"
    }
   ],
   "source": [
    "pd.DataFrame(phones)"
   ]
  },
  {
   "cell_type": "code",
   "execution_count": 15,
   "id": "36030c14",
   "metadata": {},
   "outputs": [
    {
     "name": "stdout",
     "output_type": "stream",
     "text": [
      "<class 'dict'>\n",
      "phone     [oppo, apple, samsung]\n",
      "weight                 [2, 1, 3]\n",
      "dtype: object\n"
     ]
    }
   ],
   "source": [
    "print(type(phones))\n",
    "phones1=pd.Series(phones)\n",
    "print(phones1)"
   ]
  },
  {
   "cell_type": "code",
   "execution_count": 16,
   "id": "366875a0",
   "metadata": {},
   "outputs": [
    {
     "name": "stdout",
     "output_type": "stream",
     "text": [
      "<class 'list'>\n",
      "0      apple\n",
      "1    samsung\n",
      "2       oppo\n",
      "3     realme\n",
      "dtype: object\n",
      "<class 'pandas.core.series.Series'>\n"
     ]
    }
   ],
   "source": [
    "arr1=['apple','samsung','oppo','realme']\n",
    "print(type(arr1))\n",
    "newseries=pd.Series(arr1)\n",
    "print(newseries)\n",
    "print(type(newseries))"
   ]
  },
  {
   "cell_type": "code",
   "execution_count": 17,
   "id": "012560f4",
   "metadata": {},
   "outputs": [
    {
     "name": "stdout",
     "output_type": "stream",
     "text": [
      "     sepallength  petallength           class\n",
      "0            5.1          1.4     Iris-setosa\n",
      "1            4.9          1.4     Iris-setosa\n",
      "2            4.7          1.3     Iris-setosa\n",
      "3            4.6          1.5     Iris-setosa\n",
      "4            5.0          1.4     Iris-setosa\n",
      "..           ...          ...             ...\n",
      "145          6.7          5.2  Iris-virginica\n",
      "146          6.3          5.0  Iris-virginica\n",
      "147          6.5          NaN  Iris-virginica\n",
      "148          6.2          5.4  Iris-virginica\n",
      "149          5.9          5.1  Iris-virginica\n",
      "\n",
      "[150 rows x 3 columns]\n"
     ]
    }
   ],
   "source": [
    "#read the dataset from the local directory\n",
    "df=pd.read_csv('iris.csv')\n",
    "print(df)"
   ]
  },
  {
   "cell_type": "code",
   "execution_count": 18,
   "id": "d97f49a9",
   "metadata": {},
   "outputs": [
    {
     "name": "stdout",
     "output_type": "stream",
     "text": [
      "160\n"
     ]
    }
   ],
   "source": [
    "a=pd.options.display.max_rows=160\n",
    "print(a)"
   ]
  },
  {
   "cell_type": "code",
   "execution_count": 19,
   "id": "64b39061",
   "metadata": {},
   "outputs": [
    {
     "name": "stdout",
     "output_type": "stream",
     "text": [
      "     sepallength  petallength            class\n",
      "0            5.1          1.4      Iris-setosa\n",
      "1            4.9          1.4      Iris-setosa\n",
      "2            4.7          1.3      Iris-setosa\n",
      "3            4.6          1.5      Iris-setosa\n",
      "4            5.0          1.4      Iris-setosa\n",
      "5            5.4          NaN      Iris-setosa\n",
      "6            4.6          1.4      Iris-setosa\n",
      "7            NaN          1.5      Iris-setosa\n",
      "8            4.4          1.4      Iris-setosa\n",
      "9            4.9          1.5      Iris-setosa\n",
      "10           5.4          1.5      Iris-setosa\n",
      "11           4.8          1.6      Iris-setosa\n",
      "12           4.8          1.4      Iris-setosa\n",
      "13           4.3          1.1      Iris-setosa\n",
      "14           NaN          1.2      Iris-setosa\n",
      "15           5.7          1.5      Iris-setosa\n",
      "16           5.4          1.3      Iris-setosa\n",
      "17           5.1          1.4      Iris-setosa\n",
      "18           5.7          1.7      Iris-setosa\n",
      "19           5.1          NaN      Iris-setosa\n",
      "20           5.4          1.7      Iris-setosa\n",
      "21           5.1          1.5      Iris-setosa\n",
      "22           4.6          1.0      Iris-setosa\n",
      "23           5.1          1.7      Iris-setosa\n",
      "24           4.8          1.9      Iris-setosa\n",
      "25           5.0          1.6      Iris-setosa\n",
      "26           5.0          1.6      Iris-setosa\n",
      "27           5.2          1.5      Iris-setosa\n",
      "28           5.2          NaN      Iris-setosa\n",
      "29           4.7          1.6      Iris-setosa\n",
      "30           4.8          1.6      Iris-setosa\n",
      "31           NaN          1.5      Iris-setosa\n",
      "32           5.2          1.5      Iris-setosa\n",
      "33           5.5          1.4      Iris-setosa\n",
      "34           4.9          1.5      Iris-setosa\n",
      "35           5.0          1.2      Iris-setosa\n",
      "36           5.5          1.3      Iris-setosa\n",
      "37           4.9          1.5      Iris-setosa\n",
      "38           4.4          NaN      Iris-setosa\n",
      "39           5.1          1.5      Iris-setosa\n",
      "40           NaN          1.3      Iris-setosa\n",
      "41           4.5          1.3      Iris-setosa\n",
      "42           4.4          1.3      Iris-setosa\n",
      "43           5.0          1.6      Iris-setosa\n",
      "44           5.1          1.9      Iris-setosa\n",
      "45           4.8          1.4      Iris-setosa\n",
      "46           5.1          1.6      Iris-setosa\n",
      "47           4.6          NaN      Iris-setosa\n",
      "48           5.3          1.5      Iris-setosa\n",
      "49           5.0          1.4      Iris-setosa\n",
      "50           7.0          4.7  Iris-versicolor\n",
      "51           6.4          4.5  Iris-versicolor\n",
      "52           6.9          4.9  Iris-versicolor\n",
      "53           5.5          4.0  Iris-versicolor\n",
      "54           6.5          4.6  Iris-versicolor\n",
      "55           NaN          NaN  Iris-versicolor\n",
      "56           6.3          4.7  Iris-versicolor\n",
      "57           4.9          3.3  Iris-versicolor\n",
      "58           6.6          4.6  Iris-versicolor\n",
      "59           NaN          3.9  Iris-versicolor\n",
      "60           5.0          3.5  Iris-versicolor\n",
      "61           5.9          4.2  Iris-versicolor\n",
      "62           6.0          4.0  Iris-versicolor\n",
      "63           6.1          4.7  Iris-versicolor\n",
      "64           5.6          NaN  Iris-versicolor\n",
      "65           6.7          4.4  Iris-versicolor\n",
      "66           5.6          4.5  Iris-versicolor\n",
      "67           5.8          4.1  Iris-versicolor\n",
      "68           6.2          4.5  Iris-versicolor\n",
      "69           NaN          3.9  Iris-versicolor\n",
      "70           NaN          4.8  Iris-versicolor\n",
      "71           NaN          4.0  Iris-versicolor\n",
      "72           NaN          4.9  Iris-versicolor\n",
      "73           6.1          4.7  Iris-versicolor\n",
      "74           6.4          4.3  Iris-versicolor\n",
      "75           6.6          4.4  Iris-versicolor\n",
      "76           6.8          4.8  Iris-versicolor\n",
      "77           6.7          5.0  Iris-versicolor\n",
      "78           6.0          4.5  Iris-versicolor\n",
      "79           5.7          3.5  Iris-versicolor\n",
      "80           5.5          3.8  Iris-versicolor\n",
      "81           5.5          3.7  Iris-versicolor\n",
      "82           5.8          3.9  Iris-versicolor\n",
      "83           6.0          5.1  Iris-versicolor\n",
      "84           5.4          4.5  Iris-versicolor\n",
      "85           6.0          4.5  Iris-versicolor\n",
      "86           6.7          4.7  Iris-versicolor\n",
      "87           6.3          4.4  Iris-versicolor\n",
      "88           5.6          4.1  Iris-versicolor\n",
      "89           5.5          4.0  Iris-versicolor\n",
      "90           5.5          4.4  Iris-versicolor\n",
      "91           6.1          4.6  Iris-versicolor\n",
      "92           5.8          4.0  Iris-versicolor\n",
      "93           5.0          3.3  Iris-versicolor\n",
      "94           5.6          4.2  Iris-versicolor\n",
      "95           5.7          4.2  Iris-versicolor\n",
      "96           5.7          4.2  Iris-versicolor\n",
      "97           6.2          4.3  Iris-versicolor\n",
      "98           5.1          3.0  Iris-versicolor\n",
      "99           5.7          4.1  Iris-versicolor\n",
      "100          6.3          6.0   Iris-virginica\n",
      "101          5.8          5.1   Iris-virginica\n",
      "102          7.1          5.9   Iris-virginica\n",
      "103          6.3          5.6   Iris-virginica\n",
      "104          6.5          5.8   Iris-virginica\n",
      "105          7.6          6.6   Iris-virginica\n",
      "106          4.9          4.5   Iris-virginica\n",
      "107          7.3          6.3   Iris-virginica\n",
      "108          6.7          5.8   Iris-virginica\n",
      "109          7.2          6.1   Iris-virginica\n",
      "110          6.5          5.1   Iris-virginica\n",
      "111          6.4          5.3   Iris-virginica\n",
      "112          6.8          5.5   Iris-virginica\n",
      "113          5.7          5.0   Iris-virginica\n",
      "114          5.8          5.1   Iris-virginica\n",
      "115          6.4          5.3   Iris-virginica\n",
      "116          6.5          5.5   Iris-virginica\n",
      "117          7.7          6.7   Iris-virginica\n",
      "118          7.7          6.9   Iris-virginica\n",
      "119          6.0          5.0   Iris-virginica\n",
      "120          6.9          5.7   Iris-virginica\n",
      "121          5.6          4.9   Iris-virginica\n",
      "122          7.7          6.7   Iris-virginica\n",
      "123          6.3          4.9   Iris-virginica\n",
      "124          6.7          5.7   Iris-virginica\n",
      "125          7.2          6.0   Iris-virginica\n",
      "126          6.2          4.8   Iris-virginica\n",
      "127          6.1          4.9   Iris-virginica\n",
      "128          6.4          5.6   Iris-virginica\n",
      "129          7.2          5.8   Iris-virginica\n",
      "130          7.4          6.1   Iris-virginica\n",
      "131          7.9          6.4   Iris-virginica\n",
      "132          6.4          5.6   Iris-virginica\n",
      "133          6.3          5.1   Iris-virginica\n",
      "134          6.1          5.6   Iris-virginica\n",
      "135          7.7          6.1   Iris-virginica\n",
      "136          6.3          5.6   Iris-virginica\n",
      "137          6.4          5.5   Iris-virginica\n",
      "138          6.0          4.8   Iris-virginica\n",
      "139          6.9          5.4   Iris-virginica\n",
      "140          6.7          5.6   Iris-virginica\n",
      "141          6.9          5.1   Iris-virginica\n",
      "142          5.8          5.1   Iris-virginica\n",
      "143          6.8          5.9   Iris-virginica\n",
      "144          6.7          5.7   Iris-virginica\n",
      "145          6.7          5.2   Iris-virginica\n",
      "146          6.3          5.0   Iris-virginica\n",
      "147          6.5          NaN   Iris-virginica\n",
      "148          6.2          5.4   Iris-virginica\n",
      "149          5.9          5.1   Iris-virginica\n"
     ]
    }
   ],
   "source": [
    "print(df)"
   ]
  },
  {
   "cell_type": "code",
   "execution_count": 20,
   "id": "1e26128d",
   "metadata": {},
   "outputs": [
    {
     "name": "stdout",
     "output_type": "stream",
     "text": [
      "     sepallength  petallength            class\n",
      "0            5.1          1.4      Iris-setosa\n",
      "1            4.9          1.4      Iris-setosa\n",
      "2            4.7          1.3      Iris-setosa\n",
      "3            4.6          1.5      Iris-setosa\n",
      "4            5.0          1.4      Iris-setosa\n",
      "6            4.6          1.4      Iris-setosa\n",
      "8            4.4          1.4      Iris-setosa\n",
      "9            4.9          1.5      Iris-setosa\n",
      "10           5.4          1.5      Iris-setosa\n",
      "11           4.8          1.6      Iris-setosa\n",
      "12           4.8          1.4      Iris-setosa\n",
      "13           4.3          1.1      Iris-setosa\n",
      "15           5.7          1.5      Iris-setosa\n",
      "16           5.4          1.3      Iris-setosa\n",
      "17           5.1          1.4      Iris-setosa\n",
      "18           5.7          1.7      Iris-setosa\n",
      "20           5.4          1.7      Iris-setosa\n",
      "21           5.1          1.5      Iris-setosa\n",
      "22           4.6          1.0      Iris-setosa\n",
      "23           5.1          1.7      Iris-setosa\n",
      "24           4.8          1.9      Iris-setosa\n",
      "25           5.0          1.6      Iris-setosa\n",
      "26           5.0          1.6      Iris-setosa\n",
      "27           5.2          1.5      Iris-setosa\n",
      "29           4.7          1.6      Iris-setosa\n",
      "30           4.8          1.6      Iris-setosa\n",
      "32           5.2          1.5      Iris-setosa\n",
      "33           5.5          1.4      Iris-setosa\n",
      "34           4.9          1.5      Iris-setosa\n",
      "35           5.0          1.2      Iris-setosa\n",
      "36           5.5          1.3      Iris-setosa\n",
      "37           4.9          1.5      Iris-setosa\n",
      "39           5.1          1.5      Iris-setosa\n",
      "41           4.5          1.3      Iris-setosa\n",
      "42           4.4          1.3      Iris-setosa\n",
      "43           5.0          1.6      Iris-setosa\n",
      "44           5.1          1.9      Iris-setosa\n",
      "45           4.8          1.4      Iris-setosa\n",
      "46           5.1          1.6      Iris-setosa\n",
      "48           5.3          1.5      Iris-setosa\n",
      "49           5.0          1.4      Iris-setosa\n",
      "50           7.0          4.7  Iris-versicolor\n",
      "51           6.4          4.5  Iris-versicolor\n",
      "52           6.9          4.9  Iris-versicolor\n",
      "53           5.5          4.0  Iris-versicolor\n",
      "54           6.5          4.6  Iris-versicolor\n",
      "56           6.3          4.7  Iris-versicolor\n",
      "57           4.9          3.3  Iris-versicolor\n",
      "58           6.6          4.6  Iris-versicolor\n",
      "60           5.0          3.5  Iris-versicolor\n",
      "61           5.9          4.2  Iris-versicolor\n",
      "62           6.0          4.0  Iris-versicolor\n",
      "63           6.1          4.7  Iris-versicolor\n",
      "65           6.7          4.4  Iris-versicolor\n",
      "66           5.6          4.5  Iris-versicolor\n",
      "67           5.8          4.1  Iris-versicolor\n",
      "68           6.2          4.5  Iris-versicolor\n",
      "73           6.1          4.7  Iris-versicolor\n",
      "74           6.4          4.3  Iris-versicolor\n",
      "75           6.6          4.4  Iris-versicolor\n",
      "76           6.8          4.8  Iris-versicolor\n",
      "77           6.7          5.0  Iris-versicolor\n",
      "78           6.0          4.5  Iris-versicolor\n",
      "79           5.7          3.5  Iris-versicolor\n",
      "80           5.5          3.8  Iris-versicolor\n",
      "81           5.5          3.7  Iris-versicolor\n",
      "82           5.8          3.9  Iris-versicolor\n",
      "83           6.0          5.1  Iris-versicolor\n",
      "84           5.4          4.5  Iris-versicolor\n",
      "85           6.0          4.5  Iris-versicolor\n",
      "86           6.7          4.7  Iris-versicolor\n",
      "87           6.3          4.4  Iris-versicolor\n",
      "88           5.6          4.1  Iris-versicolor\n",
      "89           5.5          4.0  Iris-versicolor\n",
      "90           5.5          4.4  Iris-versicolor\n",
      "91           6.1          4.6  Iris-versicolor\n",
      "92           5.8          4.0  Iris-versicolor\n",
      "93           5.0          3.3  Iris-versicolor\n",
      "94           5.6          4.2  Iris-versicolor\n",
      "95           5.7          4.2  Iris-versicolor\n",
      "96           5.7          4.2  Iris-versicolor\n",
      "97           6.2          4.3  Iris-versicolor\n",
      "98           5.1          3.0  Iris-versicolor\n",
      "99           5.7          4.1  Iris-versicolor\n",
      "100          6.3          6.0   Iris-virginica\n",
      "101          5.8          5.1   Iris-virginica\n",
      "102          7.1          5.9   Iris-virginica\n",
      "103          6.3          5.6   Iris-virginica\n",
      "104          6.5          5.8   Iris-virginica\n",
      "105          7.6          6.6   Iris-virginica\n",
      "106          4.9          4.5   Iris-virginica\n",
      "107          7.3          6.3   Iris-virginica\n",
      "108          6.7          5.8   Iris-virginica\n",
      "109          7.2          6.1   Iris-virginica\n",
      "110          6.5          5.1   Iris-virginica\n",
      "111          6.4          5.3   Iris-virginica\n",
      "112          6.8          5.5   Iris-virginica\n",
      "113          5.7          5.0   Iris-virginica\n",
      "114          5.8          5.1   Iris-virginica\n",
      "115          6.4          5.3   Iris-virginica\n",
      "116          6.5          5.5   Iris-virginica\n",
      "117          7.7          6.7   Iris-virginica\n",
      "118          7.7          6.9   Iris-virginica\n",
      "119          6.0          5.0   Iris-virginica\n",
      "120          6.9          5.7   Iris-virginica\n",
      "121          5.6          4.9   Iris-virginica\n",
      "122          7.7          6.7   Iris-virginica\n",
      "123          6.3          4.9   Iris-virginica\n",
      "124          6.7          5.7   Iris-virginica\n",
      "125          7.2          6.0   Iris-virginica\n",
      "126          6.2          4.8   Iris-virginica\n",
      "127          6.1          4.9   Iris-virginica\n",
      "128          6.4          5.6   Iris-virginica\n",
      "129          7.2          5.8   Iris-virginica\n",
      "130          7.4          6.1   Iris-virginica\n",
      "131          7.9          6.4   Iris-virginica\n",
      "132          6.4          5.6   Iris-virginica\n",
      "133          6.3          5.1   Iris-virginica\n",
      "134          6.1          5.6   Iris-virginica\n",
      "135          7.7          6.1   Iris-virginica\n",
      "136          6.3          5.6   Iris-virginica\n",
      "137          6.4          5.5   Iris-virginica\n",
      "138          6.0          4.8   Iris-virginica\n",
      "139          6.9          5.4   Iris-virginica\n",
      "140          6.7          5.6   Iris-virginica\n",
      "141          6.9          5.1   Iris-virginica\n",
      "142          5.8          5.1   Iris-virginica\n",
      "143          6.8          5.9   Iris-virginica\n",
      "144          6.7          5.7   Iris-virginica\n",
      "145          6.7          5.2   Iris-virginica\n",
      "146          6.3          5.0   Iris-virginica\n",
      "148          6.2          5.4   Iris-virginica\n",
      "149          5.9          5.1   Iris-virginica\n"
     ]
    }
   ],
   "source": [
    "df1=df\n",
    "df1.dropna(inplace=True)\n",
    "print(df1)"
   ]
  },
  {
   "cell_type": "code",
   "execution_count": 22,
   "id": "97ddc5ae",
   "metadata": {},
   "outputs": [
    {
     "name": "stdout",
     "output_type": "stream",
     "text": [
      "     sepallength  petallength            class\n",
      "0            5.1          1.4      Iris-setosa\n",
      "1            4.9          1.4      Iris-setosa\n",
      "2            4.7          1.3      Iris-setosa\n",
      "3            4.6          1.5      Iris-setosa\n",
      "4            5.0          1.4      Iris-setosa\n",
      "5            5.4        130.0      Iris-setosa\n",
      "6            4.6          1.4      Iris-setosa\n",
      "7          130.0          1.5      Iris-setosa\n",
      "8            4.4          1.4      Iris-setosa\n",
      "9            4.9          1.5      Iris-setosa\n",
      "10           5.4          1.5      Iris-setosa\n",
      "11           4.8          1.6      Iris-setosa\n",
      "12           4.8          1.4      Iris-setosa\n",
      "13           4.3          1.1      Iris-setosa\n",
      "14         130.0          1.2      Iris-setosa\n",
      "15           5.7          1.5      Iris-setosa\n",
      "16           5.4          1.3      Iris-setosa\n",
      "17           5.1          1.4      Iris-setosa\n",
      "18           5.7          1.7      Iris-setosa\n",
      "19           5.1        130.0      Iris-setosa\n",
      "20           5.4          1.7      Iris-setosa\n",
      "21           5.1          1.5      Iris-setosa\n",
      "22           4.6          1.0      Iris-setosa\n",
      "23           5.1          1.7      Iris-setosa\n",
      "24           4.8          1.9      Iris-setosa\n",
      "25           5.0          1.6      Iris-setosa\n",
      "26           5.0          1.6      Iris-setosa\n",
      "27           5.2          1.5      Iris-setosa\n",
      "28           5.2        130.0      Iris-setosa\n",
      "29           4.7          1.6      Iris-setosa\n",
      "30           4.8          1.6      Iris-setosa\n",
      "31         130.0          1.5      Iris-setosa\n",
      "32           5.2          1.5      Iris-setosa\n",
      "33           5.5          1.4      Iris-setosa\n",
      "34           4.9          1.5      Iris-setosa\n",
      "35           5.0          1.2      Iris-setosa\n",
      "36           5.5          1.3      Iris-setosa\n",
      "37           4.9          1.5      Iris-setosa\n",
      "38           4.4        130.0      Iris-setosa\n",
      "39           5.1          1.5      Iris-setosa\n",
      "40         130.0          1.3      Iris-setosa\n",
      "41           4.5          1.3      Iris-setosa\n",
      "42           4.4          1.3      Iris-setosa\n",
      "43           5.0          1.6      Iris-setosa\n",
      "44           5.1          1.9      Iris-setosa\n",
      "45           4.8          1.4      Iris-setosa\n",
      "46           5.1          1.6      Iris-setosa\n",
      "47           4.6        130.0      Iris-setosa\n",
      "48           5.3          1.5      Iris-setosa\n",
      "49           5.0          1.4      Iris-setosa\n",
      "50           7.0          4.7  Iris-versicolor\n",
      "51           6.4          4.5  Iris-versicolor\n",
      "52           6.9          4.9  Iris-versicolor\n",
      "53           5.5          4.0  Iris-versicolor\n",
      "54           6.5          4.6  Iris-versicolor\n",
      "55         130.0        130.0  Iris-versicolor\n",
      "56           6.3          4.7  Iris-versicolor\n",
      "57           4.9          3.3  Iris-versicolor\n",
      "58           6.6          4.6  Iris-versicolor\n",
      "59         130.0          3.9  Iris-versicolor\n",
      "60           5.0          3.5  Iris-versicolor\n",
      "61           5.9          4.2  Iris-versicolor\n",
      "62           6.0          4.0  Iris-versicolor\n",
      "63           6.1          4.7  Iris-versicolor\n",
      "64           5.6        130.0  Iris-versicolor\n",
      "65           6.7          4.4  Iris-versicolor\n",
      "66           5.6          4.5  Iris-versicolor\n",
      "67           5.8          4.1  Iris-versicolor\n",
      "68           6.2          4.5  Iris-versicolor\n",
      "69         130.0          3.9  Iris-versicolor\n",
      "70         130.0          4.8  Iris-versicolor\n",
      "71         130.0          4.0  Iris-versicolor\n",
      "72         130.0          4.9  Iris-versicolor\n",
      "73           6.1          4.7  Iris-versicolor\n",
      "74           6.4          4.3  Iris-versicolor\n",
      "75           6.6          4.4  Iris-versicolor\n",
      "76           6.8          4.8  Iris-versicolor\n",
      "77           6.7          5.0  Iris-versicolor\n",
      "78           6.0          4.5  Iris-versicolor\n",
      "79           5.7          3.5  Iris-versicolor\n",
      "80           5.5          3.8  Iris-versicolor\n",
      "81           5.5          3.7  Iris-versicolor\n",
      "82           5.8          3.9  Iris-versicolor\n",
      "83           6.0          5.1  Iris-versicolor\n",
      "84           5.4          4.5  Iris-versicolor\n",
      "85           6.0          4.5  Iris-versicolor\n",
      "86           6.7          4.7  Iris-versicolor\n",
      "87           6.3          4.4  Iris-versicolor\n",
      "88           5.6          4.1  Iris-versicolor\n",
      "89           5.5          4.0  Iris-versicolor\n",
      "90           5.5          4.4  Iris-versicolor\n",
      "91           6.1          4.6  Iris-versicolor\n",
      "92           5.8          4.0  Iris-versicolor\n",
      "93           5.0          3.3  Iris-versicolor\n",
      "94           5.6          4.2  Iris-versicolor\n",
      "95           5.7          4.2  Iris-versicolor\n",
      "96           5.7          4.2  Iris-versicolor\n",
      "97           6.2          4.3  Iris-versicolor\n",
      "98           5.1          3.0  Iris-versicolor\n",
      "99           5.7          4.1  Iris-versicolor\n",
      "100          6.3          6.0   Iris-virginica\n",
      "101          5.8          5.1   Iris-virginica\n",
      "102          7.1          5.9   Iris-virginica\n",
      "103          6.3          5.6   Iris-virginica\n",
      "104          6.5          5.8   Iris-virginica\n",
      "105          7.6          6.6   Iris-virginica\n",
      "106          4.9          4.5   Iris-virginica\n",
      "107          7.3          6.3   Iris-virginica\n",
      "108          6.7          5.8   Iris-virginica\n",
      "109          7.2          6.1   Iris-virginica\n",
      "110          6.5          5.1   Iris-virginica\n",
      "111          6.4          5.3   Iris-virginica\n",
      "112          6.8          5.5   Iris-virginica\n",
      "113          5.7          5.0   Iris-virginica\n",
      "114          5.8          5.1   Iris-virginica\n",
      "115          6.4          5.3   Iris-virginica\n",
      "116          6.5          5.5   Iris-virginica\n",
      "117          7.7          6.7   Iris-virginica\n",
      "118          7.7          6.9   Iris-virginica\n",
      "119          6.0          5.0   Iris-virginica\n",
      "120          6.9          5.7   Iris-virginica\n",
      "121          5.6          4.9   Iris-virginica\n",
      "122          7.7          6.7   Iris-virginica\n",
      "123          6.3          4.9   Iris-virginica\n",
      "124          6.7          5.7   Iris-virginica\n",
      "125          7.2          6.0   Iris-virginica\n",
      "126          6.2          4.8   Iris-virginica\n",
      "127          6.1          4.9   Iris-virginica\n",
      "128          6.4          5.6   Iris-virginica\n",
      "129          7.2          5.8   Iris-virginica\n",
      "130          7.4          6.1   Iris-virginica\n",
      "131          7.9          6.4   Iris-virginica\n",
      "132          6.4          5.6   Iris-virginica\n",
      "133          6.3          5.1   Iris-virginica\n",
      "134          6.1          5.6   Iris-virginica\n",
      "135          7.7          6.1   Iris-virginica\n",
      "136          6.3          5.6   Iris-virginica\n",
      "137          6.4          5.5   Iris-virginica\n",
      "138          6.0          4.8   Iris-virginica\n",
      "139          6.9          5.4   Iris-virginica\n",
      "140          6.7          5.6   Iris-virginica\n",
      "141          6.9          5.1   Iris-virginica\n",
      "142          5.8          5.1   Iris-virginica\n",
      "143          6.8          5.9   Iris-virginica\n",
      "144          6.7          5.7   Iris-virginica\n",
      "145          6.7          5.2   Iris-virginica\n",
      "146          6.3          5.0   Iris-virginica\n",
      "147          6.5        130.0   Iris-virginica\n",
      "148          6.2          5.4   Iris-virginica\n",
      "149          5.9          5.1   Iris-virginica\n"
     ]
    }
   ],
   "source": [
    "df=pd.read_csv(\"iris.csv\")\n",
    "df2=df\n",
    "df2=df.fillna(130)\n",
    "print(df2)"
   ]
  },
  {
   "cell_type": "code",
   "execution_count": 23,
   "id": "44e09e27",
   "metadata": {},
   "outputs": [
    {
     "name": "stdout",
     "output_type": "stream",
     "text": [
      "5.8607142857142875\n"
     ]
    }
   ],
   "source": [
    "#using the mean to substitute the null value\n",
    "#print(df)\n",
    "df3=df\n",
    "x=df3[\"sepallength\"].mean()\n",
    "print(x)"
   ]
  },
  {
   "cell_type": "code",
   "execution_count": 24,
   "id": "24311599",
   "metadata": {},
   "outputs": [
    {
     "name": "stdout",
     "output_type": "stream",
     "text": [
      "3.8253521126760592\n"
     ]
    }
   ],
   "source": [
    "x=df3[\"petallength\"].mean()\n",
    "print(x)"
   ]
  },
  {
   "cell_type": "code",
   "execution_count": 29,
   "id": "2a4fbcaf",
   "metadata": {},
   "outputs": [],
   "source": [
    "df3[\"sepallength\"].fillna(x,inplace=True)"
   ]
  },
  {
   "cell_type": "code",
   "execution_count": 30,
   "id": "f54a8178",
   "metadata": {},
   "outputs": [
    {
     "name": "stdout",
     "output_type": "stream",
     "text": [
      "3.8253521126760592\n"
     ]
    }
   ],
   "source": [
    "y1=df3[\"petallength\"].mean()\n",
    "print(y1)"
   ]
  },
  {
   "cell_type": "code",
   "execution_count": 31,
   "id": "f4e9cf72",
   "metadata": {},
   "outputs": [
    {
     "data": {
      "text/plain": [
       "'3.4.3'"
      ]
     },
     "execution_count": 31,
     "metadata": {},
     "output_type": "execute_result"
    }
   ],
   "source": [
    "import matplotlib\n",
    "matplotlib.__version__"
   ]
  },
  {
   "cell_type": "code",
   "execution_count": null,
   "id": "a965655e",
   "metadata": {},
   "outputs": [],
   "source": [
    "sortdf=df3.sort_values(\"sepallength\")"
   ]
  }
 ],
 "metadata": {
  "kernelspec": {
   "display_name": "Python 3 (ipykernel)",
   "language": "python",
   "name": "python3"
  },
  "language_info": {
   "codemirror_mode": {
    "name": "ipython",
    "version": 3
   },
   "file_extension": ".py",
   "mimetype": "text/x-python",
   "name": "python",
   "nbconvert_exporter": "python",
   "pygments_lexer": "ipython3",
   "version": "3.9.7"
  }
 },
 "nbformat": 4,
 "nbformat_minor": 5
}
