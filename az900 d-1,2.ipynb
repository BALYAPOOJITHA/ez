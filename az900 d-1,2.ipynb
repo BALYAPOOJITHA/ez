{
 "cells": [
  {
   "cell_type": "markdown",
   "id": "2b574370",
   "metadata": {},
   "source": []
  },
  {
   "cell_type": "code",
   "execution_count": null,
   "id": "f9412a33",
   "metadata": {},
   "outputs": [],
   "source": [
    "a=int(input(\"enter number\"))\n",
    "b=int(input(\"enter number\"))\n",
    "b=a+b\n",
    "a=b-a\n",
    "b=b-a\n",
    "print(\"the value after swapping\",a)\n",
    "print(\"the value after swapping\",b)\n"
   ]
  },
  {
   "cell_type": "code",
   "execution_count": null,
   "id": "f036aa79",
   "metadata": {},
   "outputs": [],
   "source": [
    "x=1\n",
    "y=2.4\n",
    "z=1j\n",
    "a=float(x)\n",
    "print(a)\n",
    "b=int(y)\n",
    "print(b)\n",
    "c=complex(z)\n",
    "print(c)\n",
    "print(type(c))\n",
    "print(type(a))\n",
    "print(type(b))"
   ]
  },
  {
   "cell_type": "code",
   "execution_count": null,
   "id": "f38b1097",
   "metadata": {},
   "outputs": [],
   "source": [
    "#creating strings in python\n",
    "str1='python'\n",
    "print(str1)\n",
    "str2=\"python in double quotes\"\n",
    "print(str2)\n",
    "str3='''python in triple quotes'''\n",
    "print(str3)"
   ]
  },
  {
   "cell_type": "code",
   "execution_count": null,
   "id": "798b9350",
   "metadata": {},
   "outputs": [],
   "source": [
    "print(str1 +'\\t$'+str1)"
   ]
  },
  {
   "cell_type": "code",
   "execution_count": null,
   "id": "408fbc1b",
   "metadata": {},
   "outputs": [],
   "source": [
    "x='sr university'\n",
    "y='python training'\n",
    "print(x[:7])\n",
    "print(x[:-4])"
   ]
  },
  {
   "cell_type": "code",
   "execution_count": null,
   "id": "163ae47a",
   "metadata": {},
   "outputs": [],
   "source": [
    "#string methods\n",
    "a='cloudthat tech'\n",
    "print(a.capitalize())\n",
    "print(a.find('tech'))"
   ]
  },
  {
   "cell_type": "code",
   "execution_count": null,
   "id": "260461ed",
   "metadata": {},
   "outputs": [],
   "source": [
    "b=\"123\"\n",
    "print(\"is digit :\",b.isdigit())\n",
    "print(len(a))\n",
    "a.replace('tech',b)"
   ]
  },
  {
   "cell_type": "code",
   "execution_count": null,
   "id": "b29c84f8",
   "metadata": {},
   "outputs": [],
   "source": [
    "#boolean operations\n",
    "x=5\n",
    "y=2\n",
    "z=(x>y)\n",
    "if z:\n",
    "    print('x is greater than y')\n",
    "else:\n",
    "    print('y is greater than x')"
   ]
  },
  {
   "cell_type": "code",
   "execution_count": null,
   "id": "362ac5d0",
   "metadata": {},
   "outputs": [],
   "source": [
    "#decision making101\n",
    "x=5\n",
    "y=5\n",
    "\n",
    "if (x>y):\n",
    "    print('x is greater than y')\n",
    "elif (x==y):\n",
    "    print('x is same')\n",
    "else:\n",
    "    print('y is greater than x')\n",
    "    "
   ]
  },
  {
   "cell_type": "code",
   "execution_count": 44,
   "id": "c3642748",
   "metadata": {},
   "outputs": [
    {
     "name": "stdout",
     "output_type": "stream",
     "text": [
      "5\n"
     ]
    }
   ],
   "source": [
    "print(x)"
   ]
  },
  {
   "cell_type": "code",
   "execution_count": 45,
   "id": "f6b375d1",
   "metadata": {},
   "outputs": [
    {
     "name": "stdout",
     "output_type": "stream",
     "text": [
      "enter number1\n",
      "1\n",
      "2\n",
      "3\n",
      "4\n",
      "5\n",
      "6\n",
      "7\n",
      "8\n",
      "9\n",
      "10\n",
      "11\n",
      "12\n",
      "13\n",
      "14\n",
      "15\n",
      "16\n",
      "17\n",
      "18\n",
      "19\n",
      "20\n"
     ]
    }
   ],
   "source": [
    "a=int(input(\"enter number\"))\n",
    "while a<=20:\n",
    "    print(a)\n",
    "    if a==10 :\n",
    "        pass\n",
    "    a=a+1"
   ]
  },
  {
   "cell_type": "code",
   "execution_count": 46,
   "id": "3ecdfc54",
   "metadata": {},
   "outputs": [
    {
     "name": "stdout",
     "output_type": "stream",
     "text": [
      "p\n",
      "o\n",
      "o\n",
      "j\n",
      "i\n",
      "t\n",
      "h\n",
      "a\n"
     ]
    }
   ],
   "source": [
    "for x in 'poojitha':\n",
    "    print(x)\n",
    "    "
   ]
  },
  {
   "cell_type": "code",
   "execution_count": 50,
   "id": "a298ecbe",
   "metadata": {},
   "outputs": [
    {
     "name": "stdout",
     "output_type": "stream",
     "text": [
      "cherry\n"
     ]
    }
   ],
   "source": [
    "fruit=['cherry','apple','banana']\n",
    "for i in fruit:\n",
    "    if i=='apple':\n",
    "        break\n",
    "    print(i)\n",
    "    "
   ]
  },
  {
   "cell_type": "code",
   "execution_count": 51,
   "id": "1da7b5e4",
   "metadata": {},
   "outputs": [
    {
     "name": "stdout",
     "output_type": "stream",
     "text": [
      "2\n",
      "4\n",
      "6\n",
      "8\n",
      "10\n",
      "12\n",
      "14\n",
      "16\n",
      "18\n"
     ]
    }
   ],
   "source": [
    "for i in range(2,20,2):\n",
    "    print(i)"
   ]
  },
  {
   "cell_type": "code",
   "execution_count": 54,
   "id": "0322d024",
   "metadata": {},
   "outputs": [
    {
     "name": "stdout",
     "output_type": "stream",
     "text": [
      "red cherry\n",
      "red apple\n",
      "red banana\n",
      "green cherry\n",
      "green apple\n",
      "green banana\n",
      "blue cherry\n",
      "blue apple\n",
      "blue banana\n"
     ]
    }
   ],
   "source": [
    "adj=['red','green','blue']\n",
    "fruits=['cherry','apple','banana']\n",
    "for i in adj:\n",
    "    for y in fruits:\n",
    "        print(i,y)"
   ]
  },
  {
   "cell_type": "code",
   "execution_count": 60,
   "id": "59b54134",
   "metadata": {},
   "outputs": [
    {
     "name": "stdout",
     "output_type": "stream",
     "text": [
      "power: 8.0\n",
      "power: 3.0\n"
     ]
    }
   ],
   "source": [
    "import math\n",
    "print(\"power:\",math.pow(2,3))\n",
    "print(\"power:\",math.sqrt(9))"
   ]
  },
  {
   "cell_type": "code",
   "execution_count": 62,
   "id": "1785ed90",
   "metadata": {},
   "outputs": [
    {
     "name": "stdout",
     "output_type": "stream",
     "text": [
      "tan 90 1.633123935319537e+16\n",
      "cos 90 6.123233995736766e-17\n"
     ]
    }
   ],
   "source": [
    "print(\"tan 90\",math.tan(math.pi/2))\n",
    "print(\"cos 90\",math.cos(math.pi/2))"
   ]
  },
  {
   "cell_type": "code",
   "execution_count": 64,
   "id": "7b661b3a",
   "metadata": {},
   "outputs": [
    {
     "name": "stdout",
     "output_type": "stream",
     "text": [
      "10\n"
     ]
    }
   ],
   "source": [
    "x=\"helloworld\"\n",
    "print(len(x))"
   ]
  },
  {
   "cell_type": "code",
   "execution_count": 70,
   "id": "c892e1d0",
   "metadata": {},
   "outputs": [
    {
     "name": "stdout",
     "output_type": "stream",
     "text": [
      "thon\n"
     ]
    }
   ],
   "source": [
    "y=\"learn python\"\n",
    "print(y[-4:])"
   ]
  },
  {
   "cell_type": "code",
   "execution_count": 72,
   "id": "d7934141",
   "metadata": {},
   "outputs": [
    {
     "name": "stdout",
     "output_type": "stream",
     "text": [
      "updation python\tlearning\n"
     ]
    }
   ],
   "source": [
    "print(\"updation\",y[6:12] + \"\\tlearning\")"
   ]
  },
  {
   "cell_type": "code",
   "execution_count": 73,
   "id": "d570ba78",
   "metadata": {},
   "outputs": [
    {
     "name": "stdout",
     "output_type": "stream",
     "text": [
      "True\n"
     ]
    }
   ],
   "source": [
    "print(\"learn\" in y)"
   ]
  },
  {
   "cell_type": "code",
   "execution_count": 75,
   "id": "59909b5d",
   "metadata": {},
   "outputs": [
    {
     "name": "stdout",
     "output_type": "stream",
     "text": [
      "LEARN PYTHON\n"
     ]
    }
   ],
   "source": [
    "print(y.upper())"
   ]
  },
  {
   "cell_type": "code",
   "execution_count": 80,
   "id": "f83e7848",
   "metadata": {},
   "outputs": [
    {
     "name": "stdout",
     "output_type": "stream",
     "text": [
      "<built-in method lstrip of str object at 0x000001400B55A730>\n"
     ]
    }
   ],
   "source": [
    "\n",
    "y=\"learn python\"\n",
    "print(y.lstrip)"
   ]
  },
  {
   "cell_type": "code",
   "execution_count": 81,
   "id": "587c8f14",
   "metadata": {},
   "outputs": [
    {
     "name": "stdout",
     "output_type": "stream",
     "text": [
      "replace lrarn python\n"
     ]
    }
   ],
   "source": [
    "print(\"replace\",y.replace('e','r'))"
   ]
  },
  {
   "cell_type": "code",
   "execution_count": 82,
   "id": "9c8e06f7",
   "metadata": {},
   "outputs": [
    {
     "name": "stdout",
     "output_type": "stream",
     "text": [
      "['learn', 'python']\n"
     ]
    }
   ],
   "source": [
    "print(y.split(\" \"))"
   ]
  },
  {
   "cell_type": "code",
   "execution_count": 85,
   "id": "eb05f594",
   "metadata": {},
   "outputs": [
    {
     "name": "stdout",
     "output_type": "stream",
     "text": [
      "my name is sai\n"
     ]
    }
   ],
   "source": [
    "\n",
    "str1=\"my name is sai\"\n",
    "age =45\n",
    "print(str1.format(age))\n"
   ]
  },
  {
   "cell_type": "code",
   "execution_count": 1,
   "id": "09c1d9dc",
   "metadata": {},
   "outputs": [
    {
     "name": "stdout",
     "output_type": "stream",
     "text": [
      "<class 'list'>\n"
     ]
    }
   ],
   "source": [
    "newlist=[\"apple\",\"banana\",\"cherry\"]\n",
    "print(type(newlist))\n"
   ]
  },
  {
   "cell_type": "code",
   "execution_count": 2,
   "id": "d91b3e75",
   "metadata": {},
   "outputs": [
    {
     "name": "stdout",
     "output_type": "stream",
     "text": [
      "cherry\n"
     ]
    }
   ],
   "source": [
    "print(newlist[2])"
   ]
  },
  {
   "cell_type": "code",
   "execution_count": 5,
   "id": "7dc953df",
   "metadata": {},
   "outputs": [
    {
     "name": "stdout",
     "output_type": "stream",
     "text": [
      "<class 'list'>\n"
     ]
    }
   ],
   "source": [
    "mullist=[1,2,3,4,5,\"apple\",\"banana\",\"cherry\",2]\n",
    "print(type(mullist))"
   ]
  },
  {
   "cell_type": "code",
   "execution_count": 6,
   "id": "b24cfc5f",
   "metadata": {},
   "outputs": [
    {
     "name": "stdout",
     "output_type": "stream",
     "text": [
      "<class 'list'>\n",
      "['a', 'b', 'c']\n"
     ]
    }
   ],
   "source": [
    "#list constructor\n",
    "listcons=list((\"a\",\"b\",\"c\"))\n",
    "print(type(listcons))\n",
    "print(listcons)"
   ]
  },
  {
   "cell_type": "code",
   "execution_count": 15,
   "id": "9408ca8d",
   "metadata": {},
   "outputs": [],
   "source": [
    "newlist=[\"apple\",\"banana\",\"cherry\"]\n",
    "newlist.insert(3,\"litchi\")\n",
    "newlist.append(\"mango\")\n",
    "#newlist.extend(mullist)\n",
    "#print(newlist+mullist)"
   ]
  },
  {
   "cell_type": "code",
   "execution_count": 16,
   "id": "efceb6f6",
   "metadata": {},
   "outputs": [
    {
     "name": "stdout",
     "output_type": "stream",
     "text": [
      "['apple', 'banana', 'cherry', 'litchi', 'mango', 1, 2, 3, 4, 5, 'apple', 'banana', 'cherry', 2]\n"
     ]
    }
   ],
   "source": [
    "newlist.extend(mullist)\n",
    "print(newlist)"
   ]
  },
  {
   "cell_type": "code",
   "execution_count": 18,
   "id": "12b7a30a",
   "metadata": {},
   "outputs": [
    {
     "data": {
      "text/plain": [
       "2"
      ]
     },
     "execution_count": 18,
     "metadata": {},
     "output_type": "execute_result"
    }
   ],
   "source": [
    "newlist.pop()"
   ]
  },
  {
   "cell_type": "code",
   "execution_count": 19,
   "id": "f44e5de7",
   "metadata": {},
   "outputs": [],
   "source": [
    "newlist.reverse()"
   ]
  },
  {
   "cell_type": "code",
   "execution_count": 24,
   "id": "7b3f0a4f",
   "metadata": {},
   "outputs": [
    {
     "data": {
      "text/plain": [
       "['cherry', 'banana', 5, 4, 3, 2, 1, 'mango', 'litchi', 'cherry', 'banana']"
      ]
     },
     "execution_count": 24,
     "metadata": {},
     "output_type": "execute_result"
    }
   ],
   "source": [
    "newlist.reverse()\n",
    "newlist"
   ]
  },
  {
   "cell_type": "code",
   "execution_count": 21,
   "id": "b30a5987",
   "metadata": {},
   "outputs": [],
   "source": [
    "newlist.remove(\"apple\")"
   ]
  },
  {
   "cell_type": "code",
   "execution_count": 22,
   "id": "79214128",
   "metadata": {},
   "outputs": [
    {
     "data": {
      "text/plain": [
       "['banana',\n",
       " 'cherry',\n",
       " 'litchi',\n",
       " 'mango',\n",
       " 1,\n",
       " 2,\n",
       " 3,\n",
       " 4,\n",
       " 5,\n",
       " 'apple',\n",
       " 'banana',\n",
       " 'cherry']"
      ]
     },
     "execution_count": 22,
     "metadata": {},
     "output_type": "execute_result"
    }
   ],
   "source": [
    "newlist"
   ]
  },
  {
   "cell_type": "code",
   "execution_count": 23,
   "id": "b61420b3",
   "metadata": {},
   "outputs": [
    {
     "data": {
      "text/plain": [
       "['banana', 'cherry', 'litchi', 'mango', 1, 2, 3, 4, 5, 'banana', 'cherry']"
      ]
     },
     "execution_count": 23,
     "metadata": {},
     "output_type": "execute_result"
    }
   ],
   "source": [
    "newlist.remove(\"apple\")\n",
    "newlist"
   ]
  },
  {
   "cell_type": "code",
   "execution_count": 25,
   "id": "5dc195a1",
   "metadata": {},
   "outputs": [
    {
     "data": {
      "text/plain": [
       "('sai', 'poojitha', 'balya')"
      ]
     },
     "execution_count": 25,
     "metadata": {},
     "output_type": "execute_result"
    }
   ],
   "source": [
    "newtuple=(\"sai\",\"poojitha\",\"balya\")\n",
    "newtuple"
   ]
  },
  {
   "cell_type": "code",
   "execution_count": 26,
   "id": "bd55c52d",
   "metadata": {},
   "outputs": [
    {
     "ename": "TypeError",
     "evalue": "'tuple' object does not support item assignment",
     "output_type": "error",
     "traceback": [
      "\u001b[1;31m---------------------------------------------------------------------------\u001b[0m",
      "\u001b[1;31mTypeError\u001b[0m                                 Traceback (most recent call last)",
      "\u001b[1;32m~\\AppData\\Local\\Temp/ipykernel_12900/1778847237.py\u001b[0m in \u001b[0;36m<module>\u001b[1;34m\u001b[0m\n\u001b[1;32m----> 1\u001b[1;33m \u001b[0mnewtuple\u001b[0m\u001b[1;33m[\u001b[0m\u001b[1;36m1\u001b[0m\u001b[1;33m]\u001b[0m\u001b[1;33m=\u001b[0m\u001b[1;34m\"praneeth\"\u001b[0m\u001b[1;33m\u001b[0m\u001b[1;33m\u001b[0m\u001b[0m\n\u001b[0m",
      "\u001b[1;31mTypeError\u001b[0m: 'tuple' object does not support item assignment"
     ]
    }
   ],
   "source": [
    "newtuple[1]=\"praneeth\""
   ]
  },
  {
   "cell_type": "code",
   "execution_count": 27,
   "id": "551bbdf5",
   "metadata": {},
   "outputs": [
    {
     "name": "stdout",
     "output_type": "stream",
     "text": [
      "<class 'tuple'>\n"
     ]
    }
   ],
   "source": [
    "tup0=()\n",
    "print(type(tup0))"
   ]
  },
  {
   "cell_type": "code",
   "execution_count": 28,
   "id": "6d9e6ff6",
   "metadata": {},
   "outputs": [
    {
     "data": {
      "text/plain": [
       "('apple', 'banana', 'cherry', 1, 3, 2)"
      ]
     },
     "execution_count": 28,
     "metadata": {},
     "output_type": "execute_result"
    }
   ],
   "source": [
    "tuple1=(\"apple\",\"banana\",\"cherry\",1,3,2,)\n",
    "tuple1\n"
   ]
  },
  {
   "cell_type": "code",
   "execution_count": 29,
   "id": "cdde7414",
   "metadata": {},
   "outputs": [
    {
     "data": {
      "text/plain": [
       "['apple', 'banana', 'cherry', 1, 3, 2]"
      ]
     },
     "execution_count": 29,
     "metadata": {},
     "output_type": "execute_result"
    }
   ],
   "source": [
    "#converting tuple to list\n",
    "list1=list(tuple1)\n",
    "list1"
   ]
  },
  {
   "cell_type": "code",
   "execution_count": 31,
   "id": "034cf143",
   "metadata": {},
   "outputs": [
    {
     "data": {
      "text/plain": [
       "('apple', 'banana', 'cherry', 1, 3, 2)"
      ]
     },
     "execution_count": 31,
     "metadata": {},
     "output_type": "execute_result"
    }
   ],
   "source": [
    "tuple1=tuple(list1)\n",
    "tuple1"
   ]
  },
  {
   "cell_type": "code",
   "execution_count": 32,
   "id": "bd8c9822",
   "metadata": {},
   "outputs": [
    {
     "name": "stdout",
     "output_type": "stream",
     "text": [
      "('banana', 'cherry')\n"
     ]
    }
   ],
   "source": [
    "print(tuple1[1:3])"
   ]
  },
  {
   "cell_type": "code",
   "execution_count": 35,
   "id": "c2c8573c",
   "metadata": {},
   "outputs": [
    {
     "name": "stdout",
     "output_type": "stream",
     "text": [
      "not there ('apple', 'banana', 'cherry', 1, 3, 2)\n"
     ]
    }
   ],
   "source": [
    "#membership\n",
    "if 3 not in tuple1:\n",
    "    print(\"yes there\",tuple1)\n",
    "else:\n",
    "    print(\"not there\",tuple1)"
   ]
  },
  {
   "cell_type": "code",
   "execution_count": 37,
   "id": "89bdf735",
   "metadata": {
    "scrolled": true
   },
   "outputs": [
    {
     "ename": "AttributeError",
     "evalue": "'tuple' object has no attribute 'remove'",
     "output_type": "error",
     "traceback": [
      "\u001b[1;31m---------------------------------------------------------------------------\u001b[0m",
      "\u001b[1;31mAttributeError\u001b[0m                            Traceback (most recent call last)",
      "\u001b[1;32m~\\AppData\\Local\\Temp/ipykernel_12900/965609579.py\u001b[0m in \u001b[0;36m<module>\u001b[1;34m\u001b[0m\n\u001b[1;32m----> 1\u001b[1;33m \u001b[0mtuple1\u001b[0m\u001b[1;33m.\u001b[0m\u001b[0mremove\u001b[0m\u001b[1;33m(\u001b[0m\u001b[1;34m\"banana\"\u001b[0m\u001b[1;33m)\u001b[0m\u001b[1;33m\u001b[0m\u001b[1;33m\u001b[0m\u001b[0m\n\u001b[0m",
      "\u001b[1;31mAttributeError\u001b[0m: 'tuple' object has no attribute 'remove'"
     ]
    }
   ],
   "source": [
    "tuple1.remove(\"banana\")"
   ]
  },
  {
   "cell_type": "code",
   "execution_count": 38,
   "id": "725d51e4",
   "metadata": {},
   "outputs": [],
   "source": [
    "list1=list(tuple1)\n",
    "list1.remove(1)\n",
    "print(list1)\n",
    "tuple1=tuple(list1)\n",
    "tuple1"
   ]
  },
  {
   "cell_type": "code",
   "execution_count": 39,
   "id": "e6d022f6",
   "metadata": {},
   "outputs": [
    {
     "name": "stdout",
     "output_type": "stream",
     "text": [
      "['apple', 'banana', 'cherry', 3, 2]\n"
     ]
    }
   ],
   "source": [
    "list1.remove(1)\n",
    "print(list1)"
   ]
  },
  {
   "cell_type": "code",
   "execution_count": 42,
   "id": "31d6d537",
   "metadata": {},
   "outputs": [
    {
     "data": {
      "text/plain": [
       "('apple', 'banana', 'cherry', 3, 2)"
      ]
     },
     "execution_count": 42,
     "metadata": {},
     "output_type": "execute_result"
    }
   ],
   "source": [
    "tuple1=tuple(list1)\n",
    "tuple1"
   ]
  },
  {
   "cell_type": "code",
   "execution_count": 44,
   "id": "4b6c8dda",
   "metadata": {},
   "outputs": [
    {
     "name": "stdout",
     "output_type": "stream",
     "text": [
      "2\n",
      "5\n"
     ]
    }
   ],
   "source": [
    "tuple2=(1,2,3,4,5,6,7,6)\n",
    "print(tuple2.count(6))\n",
    "print(tuple2.index(6))"
   ]
  },
  {
   "cell_type": "code",
   "execution_count": 45,
   "id": "c2e759d9",
   "metadata": {},
   "outputs": [],
   "source": [
    "del tuple1"
   ]
  },
  {
   "cell_type": "code",
   "execution_count": 47,
   "id": "810cfc0f",
   "metadata": {},
   "outputs": [
    {
     "data": {
      "text/plain": [
       "{'brand': 'ford', 'model': 'mustag', 'year': '2013'}"
      ]
     },
     "execution_count": 47,
     "metadata": {},
     "output_type": "execute_result"
    }
   ],
   "source": [
    "newdict={\n",
    "    \"brand\":\"ford\",\n",
    "    \"model\":\"mustag\",\n",
    "    \"year\":\"2009\",\n",
    "    \"year\":\"2013\"\n",
    "}\n",
    "newdict"
   ]
  },
  {
   "cell_type": "code",
   "execution_count": 48,
   "id": "3c51dd7b",
   "metadata": {},
   "outputs": [
    {
     "name": "stdout",
     "output_type": "stream",
     "text": [
      "3\n"
     ]
    }
   ],
   "source": [
    "print(len(newdict))"
   ]
  },
  {
   "cell_type": "code",
   "execution_count": 57,
   "id": "546979d1",
   "metadata": {},
   "outputs": [
    {
     "name": "stdout",
     "output_type": "stream",
     "text": [
      "{'brand': 'ford', 'model': 'mustag', 'electric': False, 'year': '2009', 'color': ['red', 'blue', 'black']}\n",
      "['red', 'blue', 'black']\n",
      "dict_values(['ford', 'mustag', False, '2009', ['red', 'blue', 'black']])\n",
      "dict_keys(['brand', 'model', 'electric', 'year', 'color'])\n",
      "dict_items([('brand', 'ford'), ('model', 'mustag'), ('electric', False), ('year', '2009'), ('color', ['red', 'blue', 'black'])])\n"
     ]
    }
   ],
   "source": [
    "#create dictionary with different data structures\n",
    "thisdict={\n",
    "     \"brand\":\"ford\",\n",
    "    \"model\":\"mustag\",\n",
    "    \"electric\":False,\n",
    "    \"year\":\"2009\",\n",
    "    \"color\":['red','blue','black']\n",
    "    \n",
    "}\n",
    "print(thisdict)\n",
    "print(thisdict.get(\"color\"))\n",
    "print(thisdict.values())\n",
    "print(thisdict.keys())\n",
    "print(thisdict.items())"
   ]
  },
  {
   "cell_type": "code",
   "execution_count": 52,
   "id": "d7215c14",
   "metadata": {},
   "outputs": [
    {
     "name": "stdout",
     "output_type": "stream",
     "text": [
      "<class 'dict'>\n"
     ]
    }
   ],
   "source": [
    "print(type(thisdict))"
   ]
  },
  {
   "cell_type": "code",
   "execution_count": 58,
   "id": "c9267a29",
   "metadata": {},
   "outputs": [],
   "source": [
    "#adding new key into existing dict\n",
    "newdict[\"type\"]=\"non electric\""
   ]
  },
  {
   "cell_type": "code",
   "execution_count": 59,
   "id": "3103b213",
   "metadata": {},
   "outputs": [
    {
     "data": {
      "text/plain": [
       "{'brand': 'ford', 'model': 'mustag', 'year': '2013', 'type': 'non electric'}"
      ]
     },
     "execution_count": 59,
     "metadata": {},
     "output_type": "execute_result"
    }
   ],
   "source": [
    "newdict"
   ]
  },
  {
   "cell_type": "code",
   "execution_count": 60,
   "id": "4ceb3234",
   "metadata": {},
   "outputs": [
    {
     "data": {
      "text/plain": [
       "{'brand': 'ford', 'model': 'mustag', 'type': 'non electric'}"
      ]
     },
     "execution_count": 60,
     "metadata": {},
     "output_type": "execute_result"
    }
   ],
   "source": [
    "#remove any key in dict\n",
    "newdict.pop('year')\n",
    "newdict"
   ]
  },
  {
   "cell_type": "code",
   "execution_count": 67,
   "id": "f800b263",
   "metadata": {},
   "outputs": [],
   "source": [
    "#nested dictionary\n",
    "child1={\n",
    "    \"name\":\"ram\",\n",
    "    \"age\":25\n",
    "}\n",
    "child2={\n",
    "    \"name\":\"shyam\",\n",
    "    \"age\":28\n",
    "}\n",
    "child3={\n",
    "    \"name\":\"ridhima\",\n",
    "    \"age\":21\n",
    "}\n",
    "child4={\n",
    "    \"name\":\"misha\",\n",
    "    \"age\":22\n",
    "}\n",
    "myfamily={\n",
    "    \"key1\":child1,\n",
    "    \"key2\":child2,\n",
    "    \"key3\":child3,\n",
    "    \"key4\":child4\n",
    "}\n"
   ]
  },
  {
   "cell_type": "code",
   "execution_count": 69,
   "id": "5250e609",
   "metadata": {},
   "outputs": [
    {
     "data": {
      "text/plain": [
       "{'key1': {'name': 'ram', 'age': 25},\n",
       " 'key2': {'name': 'shyam', 'age': 28},\n",
       " 'key3': {'name': 'ridhima', 'age': 21},\n",
       " 'key4': {'name': 'misha', 'age': 22}}"
      ]
     },
     "execution_count": 69,
     "metadata": {},
     "output_type": "execute_result"
    }
   ],
   "source": [
    "x=myfamily.copy()\n",
    "x"
   ]
  },
  {
   "cell_type": "code",
   "execution_count": 75,
   "id": "4df16fd2",
   "metadata": {},
   "outputs": [
    {
     "name": "stdout",
     "output_type": "stream",
     "text": [
      "{'rayma', 'suresh', 'mahesh'}\n"
     ]
    },
    {
     "data": {
      "text/plain": [
       "{'rayma': 'sales', 'suresh': 'sales', 'mahesh': 'sales'}"
      ]
     },
     "execution_count": 75,
     "metadata": {},
     "output_type": "execute_result"
    }
   ],
   "source": [
    "#creaye a set\n",
    "set1={\"suresh\",\"mahesh\",\"rayma\"}\n",
    "print(set1)\n",
    "key=\"sales\"\n",
    "#create a dictionary using the from key method\n",
    "dict1=dict.fromkeys(set1,key)\n",
    "dict1"
   ]
  },
  {
   "cell_type": "code",
   "execution_count": 77,
   "id": "e1200234",
   "metadata": {},
   "outputs": [
    {
     "name": "stdout",
     "output_type": "stream",
     "text": [
      "{'brand': 'ford', 'model': 'mustag'}\n"
     ]
    }
   ],
   "source": [
    "#pop item\n",
    "newdict.popitem()\n",
    "print(newdict)"
   ]
  },
  {
   "cell_type": "code",
   "execution_count": 79,
   "id": "f497e389",
   "metadata": {},
   "outputs": [
    {
     "name": "stdout",
     "output_type": "stream",
     "text": [
      "{'cherry', 'apple', 'litchi', 'mango', 'banana', 'kiwi'}\n",
      "<class 'set'>\n"
     ]
    }
   ],
   "source": [
    "#create a set\n",
    "set1={\"apple\",\"banana\",\"cherry\",\"mango\",\"kiwi\",\"litchi\"}\n",
    "print(set1)\n",
    "print(type(set1))"
   ]
  },
  {
   "cell_type": "code",
   "execution_count": 83,
   "id": "2dc1d012",
   "metadata": {},
   "outputs": [
    {
     "name": "stdout",
     "output_type": "stream",
     "text": [
      "{1, 2, 3, 'abc', 4.0, 'male'}\n",
      "<class 'set'>\n"
     ]
    }
   ],
   "source": [
    "#create using set cluster\n",
    "thisset=set((\"abc\",1,2,3,True,4.0,\"male\"))\n",
    "print(thisset)\n",
    "print(type(thisset))"
   ]
  },
  {
   "cell_type": "code",
   "execution_count": 84,
   "id": "72679986",
   "metadata": {},
   "outputs": [
    {
     "name": "stdout",
     "output_type": "stream",
     "text": [
      "True\n"
     ]
    }
   ],
   "source": [
    "print(1 in thisset)"
   ]
  },
  {
   "cell_type": "code",
   "execution_count": 94,
   "id": "5dcf957c",
   "metadata": {},
   "outputs": [
    {
     "data": {
      "text/plain": [
       "{'apple', 'banana', 'carrot', 'cherry', 'kiwi', 'litchi', 'mango', 'pineapple'}"
      ]
     },
     "execution_count": 94,
     "metadata": {},
     "output_type": "execute_result"
    }
   ],
   "source": [
    "set1.add(\"carrot\")\n",
    "set1\n",
    "newset=[\"pineapple\"]\n",
    "set1.update(newset)\n",
    "set1"
   ]
  },
  {
   "cell_type": "code",
   "execution_count": 96,
   "id": "c21ff4b5",
   "metadata": {},
   "outputs": [
    {
     "data": {
      "text/plain": [
       "{'apple', 'banana', 'carrot', 'cherry', 'kiwi', 'litchi', 'mango'}"
      ]
     },
     "execution_count": 96,
     "metadata": {},
     "output_type": "execute_result"
    }
   ],
   "source": [
    "#remove method\n",
    "set1.discard('pineapple')\n",
    "set1\n"
   ]
  },
  {
   "cell_type": "code",
   "execution_count": 97,
   "id": "a02f3f7a",
   "metadata": {},
   "outputs": [
    {
     "name": "stdout",
     "output_type": "stream",
     "text": [
      "value of x {'banana', 'cherry', 'apple'}\n",
      "value of y {'litchi', 'mango', 'kiwi'}\n",
      "value of z {'cherry', 'litchi', 'banana', 'apple', 'mango', 'kiwi'}\n"
     ]
    }
   ],
   "source": [
    "x={\"apple\",\"banana\",\"cherry\"}\n",
    "y={\"mango\",\"kiwi\",\"litchi\"}\n",
    "z=x.symmetric_difference(y)\n",
    "print(\"value of x\",x)\n",
    "print(\"value of y\",y)\n",
    "print(\"value of z\",z)"
   ]
  },
  {
   "cell_type": "code",
   "execution_count": 98,
   "id": "3887caf9",
   "metadata": {},
   "outputs": [
    {
     "name": "stdout",
     "output_type": "stream",
     "text": [
      "value of x {'cherry', 'litchi', 'banana', 'apple', 'mango', 'kiwi'}\n",
      "value of y {'litchi', 'mango', 'kiwi'}\n",
      "value of z None\n"
     ]
    }
   ],
   "source": [
    "x={\"apple\",\"banana\",\"cherry\"}\n",
    "y={\"mango\",\"kiwi\",\"litchi\"}\n",
    "z=x.symmetric_difference_update(y)\n",
    "print(\"value of x\",x)\n",
    "print(\"value of y\",y)\n",
    "print(\"value of z\",z)"
   ]
  },
  {
   "cell_type": "code",
   "execution_count": 99,
   "id": "033c4b46",
   "metadata": {},
   "outputs": [
    {
     "name": "stdout",
     "output_type": "stream",
     "text": [
      "value of x {'banana', 'cherry', 'apple'}\n",
      "value of y {'litchi', 'mango', 'kiwi'}\n",
      "value of z True\n"
     ]
    }
   ],
   "source": [
    "x={\"apple\",\"banana\",\"cherry\"}\n",
    "y={\"mango\",\"kiwi\",\"litchi\"}\n",
    "z=x.isdisjoint(y)\n",
    "print(\"value of x\",x)\n",
    "print(\"value of y\",y)\n",
    "print(\"value of z\",z)"
   ]
  },
  {
   "cell_type": "code",
   "execution_count": null,
   "id": "39002c1b",
   "metadata": {},
   "outputs": [],
   "source": []
  }
 ],
 "metadata": {
  "kernelspec": {
   "display_name": "Python 3 (ipykernel)",
   "language": "python",
   "name": "python3"
  },
  "language_info": {
   "codemirror_mode": {
    "name": "ipython",
    "version": 3
   },
   "file_extension": ".py",
   "mimetype": "text/x-python",
   "name": "python",
   "nbconvert_exporter": "python",
   "pygments_lexer": "ipython3",
   "version": "3.9.7"
  }
 },
 "nbformat": 4,
 "nbformat_minor": 5
}
