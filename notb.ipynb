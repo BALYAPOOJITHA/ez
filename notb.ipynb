{
 "cells": [
  {
   "cell_type": "code",
   "execution_count": 1,
   "id": "8fb89b8a",
   "metadata": {},
   "outputs": [
    {
     "name": "stdout",
     "output_type": "stream",
     "text": [
      "hello poojitha\n"
     ]
    }
   ],
   "source": [
    "#access the userdefined module named as support.py\n",
    "#importing the module as alias s\n",
    "import support as s\n",
    "s.printme(\"poojitha\")"
   ]
  },
  {
   "cell_type": "code",
   "execution_count": 2,
   "id": "c88f527e",
   "metadata": {},
   "outputs": [],
   "source": [
    "import math"
   ]
  },
  {
   "cell_type": "code",
   "execution_count": 3,
   "id": "0e514f7d",
   "metadata": {},
   "outputs": [
    {
     "data": {
      "text/plain": [
       "['__doc__',\n",
       " '__loader__',\n",
       " '__name__',\n",
       " '__package__',\n",
       " '__spec__',\n",
       " 'acos',\n",
       " 'acosh',\n",
       " 'asin',\n",
       " 'asinh',\n",
       " 'atan',\n",
       " 'atan2',\n",
       " 'atanh',\n",
       " 'ceil',\n",
       " 'comb',\n",
       " 'copysign',\n",
       " 'cos',\n",
       " 'cosh',\n",
       " 'degrees',\n",
       " 'dist',\n",
       " 'e',\n",
       " 'erf',\n",
       " 'erfc',\n",
       " 'exp',\n",
       " 'expm1',\n",
       " 'fabs',\n",
       " 'factorial',\n",
       " 'floor',\n",
       " 'fmod',\n",
       " 'frexp',\n",
       " 'fsum',\n",
       " 'gamma',\n",
       " 'gcd',\n",
       " 'hypot',\n",
       " 'inf',\n",
       " 'isclose',\n",
       " 'isfinite',\n",
       " 'isinf',\n",
       " 'isnan',\n",
       " 'isqrt',\n",
       " 'lcm',\n",
       " 'ldexp',\n",
       " 'lgamma',\n",
       " 'log',\n",
       " 'log10',\n",
       " 'log1p',\n",
       " 'log2',\n",
       " 'modf',\n",
       " 'nan',\n",
       " 'nextafter',\n",
       " 'perm',\n",
       " 'pi',\n",
       " 'pow',\n",
       " 'prod',\n",
       " 'radians',\n",
       " 'remainder',\n",
       " 'sin',\n",
       " 'sinh',\n",
       " 'sqrt',\n",
       " 'tan',\n",
       " 'tanh',\n",
       " 'tau',\n",
       " 'trunc',\n",
       " 'ulp']"
      ]
     },
     "execution_count": 3,
     "metadata": {},
     "output_type": "execute_result"
    }
   ],
   "source": [
    "dir(math)"
   ]
  },
  {
   "cell_type": "code",
   "execution_count": 4,
   "id": "71d56370",
   "metadata": {},
   "outputs": [
    {
     "data": {
      "text/plain": [
       "['__builtins__',\n",
       " '__cached__',\n",
       " '__doc__',\n",
       " '__file__',\n",
       " '__loader__',\n",
       " '__name__',\n",
       " '__package__',\n",
       " '__spec__',\n",
       " 'printme']"
      ]
     },
     "execution_count": 4,
     "metadata": {},
     "output_type": "execute_result"
    }
   ],
   "source": [
    "dir(s)"
   ]
  },
  {
   "cell_type": "code",
   "execution_count": 5,
   "id": "c8649032",
   "metadata": {},
   "outputs": [
    {
     "name": "stdout",
     "output_type": "stream",
     "text": [
      "hello poojitha\n"
     ]
    }
   ],
   "source": [
    "#import function from module\n",
    "from support import printme\n",
    "printme(\"poojitha\")"
   ]
  },
  {
   "cell_type": "code",
   "execution_count": 11,
   "id": "8da77d4c",
   "metadata": {},
   "outputs": [
    {
     "name": "stdout",
     "output_type": "stream",
     "text": [
      "\n",
      "Please wait a moment while I gather a list of all available modules...\n",
      "\n",
      "Cython              codeop              more_itertools      sphinx\n",
      "IPython             collections         mpmath              sphinxcontrib\n",
      "OpenSSL             colorama            msgpack             sphinxify\n",
      "PIL                 colorsys            msilib              sphinxthread\n",
      "PyQt5               commctrl            msvcrt              spyder\n",
      "TBB                 compileall          multipledispatch    spyder_kernels\n",
      "__future__          comtypes            multiprocessing     sqlalchemy\n",
      "_abc                concurrent          munkres             sqlite3\n",
      "_aix_support        conda               mypy_extensions     sre_compile\n",
      "_ast                conda_build         nacl                sre_constants\n",
      "_asyncio            conda_content_trust navigator_updater   sre_parse\n",
      "_bisect             conda_env           nbclassic           ssl\n",
      "_black_version      conda_pack          nbclient            sspi\n",
      "_blake2             conda_package_handling nbconvert           sspicon\n",
      "_bootlocale         conda_token         nbformat            stat\n",
      "_bootsubprocess     conda_verify        nest_asyncio        statistics\n",
      "_bz2                conf                netbios             statsmodels\n",
      "_cffi_backend       configparser        netrc               storemagic\n",
      "_codecs             contextlib          networkx            string\n",
      "_codecs_cn          contextlib2         nltk                stringprep\n",
      "_codecs_hk          contextvars         nntplib             struct\n",
      "_codecs_iso2022     cookiecutter        nose                subprocess\n",
      "_codecs_jp          copy                notebook            sunau\n",
      "_codecs_kr          copyreg             nt                  support\n",
      "_codecs_tw          crypt               ntpath              symbol\n",
      "_collections        cryptography        ntsecuritycon       sympy\n",
      "_collections_abc    csv                 nturl2path          sympyprinting\n",
      "_compat_pickle      ctypes              numba               symtable\n",
      "_compression        curl                numbers             sys\n",
      "_contextvars        curses              numexpr             sysconfig\n",
      "_csv                cwp                 numpy               tables\n",
      "_ctypes             cycler              numpydoc            tabnanny\n",
      "_ctypes_test        cython              odbc                tarfile\n",
      "_daal4py            cythonmagic         olefile             tbb\n",
      "_datetime           cytoolz             onedal              tblib\n",
      "_decimal            daal4py             opcode              telnetlib\n",
      "_distutils_hack     dask                openpyxl            tempfile\n",
      "_elementtree        dataclasses         operator            terminado\n",
      "_functools          datetime            optparse            test\n",
      "_hashlib            dateutil            os                  test_data\n",
      "_heapq              dbi                 packaging           test_pycosat\n",
      "_imp                dbm                 pandas              testpath\n",
      "_io                 dde                 pandocfilters       tests\n",
      "_json               debugpy             paramiko            text_unidecode\n",
      "_locale             decimal             parser              textdistance\n",
      "_lsprof             decorator           parso               textwrap\n",
      "_lzma               defusedxml          partd               this\n",
      "_markupbase         diff_match_patch    past                threading\n",
      "_md5                difflib             path                threadpoolctl\n",
      "_msi                dis                 pathlib             three_merge\n",
      "_multibytecodec     distributed         pathlib2            tifffile\n",
      "_multiprocessing    distutils           pathspec            time\n",
      "_nsis               doctest             patsy               timeit\n",
      "_onedal4py_host     docutils            pdb                 timer\n",
      "_opcode             email               pep8                tinycss\n",
      "_operator           encodings           perfmon             tkinter\n",
      "_osx_support        ensurepip           pexpect             tlz\n",
      "_overlapped         entrypoints         pickle              token\n",
      "_peg_parser         enum                pickleshare         tokenize\n",
      "_pickle             erfa                pickletools         toml\n",
      "_py_abc             errno               pip                 toolz\n",
      "_pydecimal          et_xmlfile          pipes               tornado\n",
      "_pyio               fastcache           pkg_resources       tqdm\n",
      "_pyrsistent_version faulthandler        pkginfo             trace\n",
      "_pytest             filecmp             pkgutil             traceback\n",
      "_queue              fileinput           platform            tracemalloc\n",
      "_random             filelock            plistlib            traitlets\n",
      "_sha1               flake8              pluggy              tty\n",
      "_sha256             flask               ply                 turtle\n",
      "_sha3               fnmatch             poplib              turtledemo\n",
      "_sha512             fontTools           posixpath           typed_ast\n",
      "_signal             formatter           poyo                types\n",
      "_sitebuiltins       fractions           pprint              typing\n",
      "_socket             fsspec              profile             typing_extensions\n",
      "_sqlite3            ftplib              prometheus_client   ujson\n",
      "_sre                functools           prompt_toolkit      unicodecsv\n",
      "_ssl                future              pstats              unicodedata\n",
      "_stat               gc                  psutil              unidecode\n",
      "_statistics         genericpath         pty                 unittest\n",
      "_string             getopt              ptyprocess          urllib\n",
      "_strptime           getpass             pvectorc            urllib3\n",
      "_struct             gettext             py                  uu\n",
      "_symtable           gevent              py_compile          uuid\n",
      "_system_path        glob                pyclbr              venv\n",
      "_testbuffer         glob2               pycodestyle         warnings\n",
      "_testcapi           graphlib            pycosat             watchdog\n",
      "_testconsole        greenlet            pycparser           wave\n",
      "_testimportmultiple gzip                pycurl              wcwidth\n",
      "_testinternalcapi   h5py                pydoc               weakref\n",
      "_testmultiphase     hashlib             pydoc_data          webbrowser\n",
      "_thread             heapdict            pydocstyle          webencodings\n",
      "_threading_local    heapq               pyexpat             werkzeug\n",
      "_tkinter            hmac                pyflakes            wheel\n",
      "_tracemalloc        html                pygments            whichcraft\n",
      "_uuid               html5lib            pylab               widgetsnbextension\n",
      "_warnings           http                pylint              win2kras\n",
      "_weakref            idlelib             pyls_spyder         win32api\n",
      "_weakrefset         idna                pylsp               win32clipboard\n",
      "_win32sysloader     imagecodecs         pylsp_black         win32com\n",
      "_winapi             imageio             pylsp_jsonrpc       win32con\n",
      "_winxptheme         imagesize           pyodbc              win32console\n",
      "_xxsubinterpreters  imaplib             pyparsing           win32cred\n",
      "_yaml               imghdr              pyreadline          win32crypt\n",
      "_zoneinfo           imp                 pyrsistent          win32cryptcon\n",
      "abc                 importlib           pytest              win32ctypes\n",
      "adodbapi            importlib_metadata  pythoncom           win32event\n",
      "afxres              inflection          pytz                win32evtlog\n",
      "aifc                iniconfig           pywin               win32evtlogutil\n",
      "alabaster           inspect             pywin32_bootstrap   win32file\n",
      "anaconda_navigator  intervaltree        pywin32_testutil    win32gui\n",
      "anaconda_project    io                  pywintypes          win32gui_struct\n",
      "antigravity         ipaddress           pywt                win32help\n",
      "anyio               ipykernel           pyximport           win32inet\n",
      "appdirs             ipykernel_launcher  qdarkstyle          win32inetcon\n",
      "argh                ipython_genutils    qstylizer           win32job\n",
      "argon2              ipywidgets          qtawesome           win32lz\n",
      "argparse            isapi               qtconsole           win32net\n",
      "array               isort               qtpy                win32netcon\n",
      "arrow               isympy              queue               win32pdh\n",
      "asn1crypto          itertools           quopri              win32pdhquery\n",
      "ast                 itsdangerous        random              win32pdhutil\n",
      "astroid             jdcal               rasutil             win32pipe\n",
      "astropy             jedi                re                  win32print\n",
      "async_generator     jinja2              readline            win32process\n",
      "asynchat            jinja2_time         regcheck            win32profile\n",
      "asyncio             joblib              regex               win32ras\n",
      "asyncore            json                regutil             win32rcparser\n",
      "atexit              json5               repo_cli            win32security\n",
      "atomicwrites        jsonschema          reprlib             win32service\n",
      "attr                jupyter             requests            win32serviceutil\n",
      "audioop             jupyter_client      rlcompleter         win32timezone\n",
      "autopep8            jupyter_console     rmagic              win32trace\n",
      "autoreload          jupyter_core        rope                win32traceutil\n",
      "babel               jupyter_server      rtree               win32transaction\n",
      "backcall            jupyterlab          ruamel_yaml         win32ts\n",
      "backports           jupyterlab_pygments run                 win32ui\n",
      "base64              jupyterlab_server   runpy               win32uiole\n",
      "bcrypt              jupyterlab_widgets  sched               win32verstamp\n",
      "bdb                 jwt                 scipy               win32wnet\n",
      "binaryornot         keyring             scripts             win_inet_pton\n",
      "binascii            keyword             seaborn             win_unicode_console\n",
      "binhex              kiwisolver          secrets             wincertstore\n",
      "binstar_client      lazy_object_proxy   select              winerror\n",
      "bisect              lib2to3             selectors           winioctlcon\n",
      "bitarray            libarchive          send2trash          winnt\n",
      "bkcharts            libfuturize         servicemanager      winperf\n",
      "black               libpasteurize       setuptools          winpty\n",
      "blackd              lief                shelve              winreg\n",
      "bleach              linecache           shlex               winsound\n",
      "blib2to3            llvmlite            shutil              winxpgui\n",
      "bokeh               locale              signal              winxptheme\n",
      "boto                locket              simplegeneric       wrapt\n",
      "bottleneck          logging             singledispatch      wsgiref\n",
      "brotli              lxml                sip                 xdrlib\n",
      "bs4                 lzma                sipconfig           xlrd\n",
      "builtins            mailbox             sipdistutils        xlsxwriter\n",
      "bz2                 mailcap             site                xlwings\n",
      "cProfile            markupsafe          six                 xlwt\n",
      "cached_property     marshal             skimage             xml\n",
      "calendar            math                sklearn             xmlrpc\n",
      "certifi             matplotlib          sklearnex           xmltodict\n",
      "cffi                matplotlib_inline   slugify             xxsubtype\n",
      "cgi                 mccabe              smtpd               yaml\n",
      "cgitb               menuinst            smtplib             yapf\n",
      "chardet             mimetypes           sndhdr              yapftests\n",
      "charset_normalizer  mistune             sniffio             zict\n",
      "chunk               mkl                 snowballstemmer     zipapp\n",
      "click               mkl_fft             socket              zipfile\n",
      "cloudpickle         mkl_random          socketserver        zipimport\n",
      "clyent              mmap                socks               zipp\n",
      "cmath               mmapfile            sockshandler        zlib\n",
      "cmd                 mmsystem            sortedcollections   zmq\n",
      "code                mock                sortedcontainers    zoneinfo\n",
      "codecs              modulefinder        soupsieve           zope\n",
      "\n",
      "Enter any module name to get more help.  Or, type \"modules spam\" to search\n",
      "for modules whose name or summary contain the string \"spam\".\n",
      "\n"
     ]
    }
   ],
   "source": [
    "help('modules')"
   ]
  },
  {
   "cell_type": "code",
   "execution_count": 9,
   "id": "6df3d7ab",
   "metadata": {},
   "outputs": [],
   "source": [
    "import math"
   ]
  },
  {
   "cell_type": "code",
   "execution_count": 10,
   "id": "d4c0e685",
   "metadata": {},
   "outputs": [
    {
     "name": "stdout",
     "output_type": "stream",
     "text": [
      "hello 3.141592653589793\n"
     ]
    }
   ],
   "source": [
    "dir(math)\n",
    "printme(math.pi)"
   ]
  },
  {
   "cell_type": "code",
   "execution_count": 14,
   "id": "e583e58d",
   "metadata": {},
   "outputs": [
    {
     "data": {
      "text/plain": [
       "5"
      ]
     },
     "execution_count": 14,
     "metadata": {},
     "output_type": "execute_result"
    }
   ],
   "source": [
    "import statistics as sts\n",
    "sts.mean([2,4,6,8])"
   ]
  },
  {
   "cell_type": "code",
   "execution_count": 22,
   "id": "b4c032bd",
   "metadata": {},
   "outputs": [
    {
     "ename": "KeyboardInterrupt",
     "evalue": "Interrupted by user",
     "output_type": "error",
     "traceback": [
      "\u001b[1;31m---------------------------------------------------------------------------\u001b[0m",
      "\u001b[1;31mKeyboardInterrupt\u001b[0m                         Traceback (most recent call last)",
      "\u001b[1;32m~\\AppData\\Local\\Temp/ipykernel_30408/489559851.py\u001b[0m in \u001b[0;36m<module>\u001b[1;34m\u001b[0m\n\u001b[0;32m      1\u001b[0m \u001b[1;32mtry\u001b[0m\u001b[1;33m:\u001b[0m\u001b[1;33m\u001b[0m\u001b[1;33m\u001b[0m\u001b[0m\n\u001b[1;32m----> 2\u001b[1;33m     \u001b[0mx\u001b[0m\u001b[1;33m=\u001b[0m\u001b[0mint\u001b[0m\u001b[1;33m(\u001b[0m\u001b[0minput\u001b[0m\u001b[1;33m(\u001b[0m\u001b[1;34m\"enter your iput\"\u001b[0m\u001b[1;33m)\u001b[0m\u001b[1;33m)\u001b[0m\u001b[1;33m\u001b[0m\u001b[1;33m\u001b[0m\u001b[0m\n\u001b[0m\u001b[0;32m      3\u001b[0m \u001b[1;33m\u001b[0m\u001b[0m\n\u001b[0;32m      4\u001b[0m \u001b[1;32mexcept\u001b[0m \u001b[0mValueError\u001b[0m\u001b[1;33m:\u001b[0m\u001b[1;33m\u001b[0m\u001b[1;33m\u001b[0m\u001b[0m\n\u001b[0;32m      5\u001b[0m         \u001b[0mprint\u001b[0m\u001b[1;33m(\u001b[0m\u001b[1;34m\"you gave a string try to give integer\"\u001b[0m\u001b[1;33m)\u001b[0m\u001b[1;33m\u001b[0m\u001b[1;33m\u001b[0m\u001b[0m\n",
      "\u001b[1;32mC:\\ProgramData\\Anaconda3\\lib\\site-packages\\ipykernel\\kernelbase.py\u001b[0m in \u001b[0;36mraw_input\u001b[1;34m(self, prompt)\u001b[0m\n\u001b[0;32m   1004\u001b[0m                 \u001b[1;34m\"raw_input was called, but this frontend does not support input requests.\"\u001b[0m\u001b[1;33m\u001b[0m\u001b[1;33m\u001b[0m\u001b[0m\n\u001b[0;32m   1005\u001b[0m             )\n\u001b[1;32m-> 1006\u001b[1;33m         return self._input_request(\n\u001b[0m\u001b[0;32m   1007\u001b[0m             \u001b[0mstr\u001b[0m\u001b[1;33m(\u001b[0m\u001b[0mprompt\u001b[0m\u001b[1;33m)\u001b[0m\u001b[1;33m,\u001b[0m\u001b[1;33m\u001b[0m\u001b[1;33m\u001b[0m\u001b[0m\n\u001b[0;32m   1008\u001b[0m             \u001b[0mself\u001b[0m\u001b[1;33m.\u001b[0m\u001b[0m_parent_ident\u001b[0m\u001b[1;33m[\u001b[0m\u001b[1;34m\"shell\"\u001b[0m\u001b[1;33m]\u001b[0m\u001b[1;33m,\u001b[0m\u001b[1;33m\u001b[0m\u001b[1;33m\u001b[0m\u001b[0m\n",
      "\u001b[1;32mC:\\ProgramData\\Anaconda3\\lib\\site-packages\\ipykernel\\kernelbase.py\u001b[0m in \u001b[0;36m_input_request\u001b[1;34m(self, prompt, ident, parent, password)\u001b[0m\n\u001b[0;32m   1049\u001b[0m             \u001b[1;32mexcept\u001b[0m \u001b[0mKeyboardInterrupt\u001b[0m\u001b[1;33m:\u001b[0m\u001b[1;33m\u001b[0m\u001b[1;33m\u001b[0m\u001b[0m\n\u001b[0;32m   1050\u001b[0m                 \u001b[1;31m# re-raise KeyboardInterrupt, to truncate traceback\u001b[0m\u001b[1;33m\u001b[0m\u001b[1;33m\u001b[0m\u001b[0m\n\u001b[1;32m-> 1051\u001b[1;33m                 \u001b[1;32mraise\u001b[0m \u001b[0mKeyboardInterrupt\u001b[0m\u001b[1;33m(\u001b[0m\u001b[1;34m\"Interrupted by user\"\u001b[0m\u001b[1;33m)\u001b[0m \u001b[1;32mfrom\u001b[0m \u001b[1;32mNone\u001b[0m\u001b[1;33m\u001b[0m\u001b[1;33m\u001b[0m\u001b[0m\n\u001b[0m\u001b[0;32m   1052\u001b[0m             \u001b[1;32mexcept\u001b[0m \u001b[0mException\u001b[0m\u001b[1;33m:\u001b[0m\u001b[1;33m\u001b[0m\u001b[1;33m\u001b[0m\u001b[0m\n\u001b[0;32m   1053\u001b[0m                 \u001b[0mself\u001b[0m\u001b[1;33m.\u001b[0m\u001b[0mlog\u001b[0m\u001b[1;33m.\u001b[0m\u001b[0mwarning\u001b[0m\u001b[1;33m(\u001b[0m\u001b[1;34m\"Invalid Message:\"\u001b[0m\u001b[1;33m,\u001b[0m \u001b[0mexc_info\u001b[0m\u001b[1;33m=\u001b[0m\u001b[1;32mTrue\u001b[0m\u001b[1;33m)\u001b[0m\u001b[1;33m\u001b[0m\u001b[1;33m\u001b[0m\u001b[0m\n",
      "\u001b[1;31mKeyboardInterrupt\u001b[0m: Interrupted by user"
     ]
    }
   ],
   "source": [
    "try:\n",
    "    x=int(input(\"enter your iput\"))\n",
    "    \n",
    "except ValueError:\n",
    "        print(\"you gave a string try to give integer\")"
   ]
  },
  {
   "cell_type": "code",
   "execution_count": 26,
   "id": "c9b93355",
   "metadata": {},
   "outputs": [
    {
     "name": "stdout",
     "output_type": "stream",
     "text": [
      "poojitha\n",
      "no exception\n",
      "finally\n"
     ]
    }
   ],
   "source": [
    "try:\n",
    "    x1=\"poojitha\"\n",
    "    print(x1)\n",
    "   # f=open(\"demo.txt\",\"r\")\n",
    "except NameError:\n",
    "    print(\"your nameerror excepton has been handeled by except block\")\n",
    "except ValueError:\n",
    "    print(\"your fileerror excepton has been handeled by except block\")\n",
    "except FileNotFound:\n",
    "    print(\"your file excepton has been handeled by except block\")\n",
    "else:\n",
    "    print(\"no exception\")\n",
    "finally:\n",
    "    print(\"finally\")\n",
    "\n",
    "\n"
   ]
  },
  {
   "cell_type": "code",
   "execution_count": 32,
   "id": "365d94ad",
   "metadata": {},
   "outputs": [],
   "source": [
    "import numpy as np"
   ]
  },
  {
   "cell_type": "code",
   "execution_count": 33,
   "id": "921a6d59",
   "metadata": {},
   "outputs": [
    {
     "name": "stdout",
     "output_type": "stream",
     "text": [
      "1.20.3\n"
     ]
    }
   ],
   "source": [
    "print(numpy.__version__)"
   ]
  },
  {
   "cell_type": "code",
   "execution_count": 34,
   "id": "c275d9fc",
   "metadata": {},
   "outputs": [
    {
     "name": "stdout",
     "output_type": "stream",
     "text": [
      "[1 2 3 4 5 6]\n",
      "<class 'numpy.ndarray'>\n"
     ]
    }
   ],
   "source": [
    "arr=numpy.array([1,2,3,4,5,6])\n",
    "print(arr)\n",
    "\n",
    "print(type(arr))"
   ]
  },
  {
   "cell_type": "code",
   "execution_count": 35,
   "id": "182aa903",
   "metadata": {},
   "outputs": [
    {
     "name": "stdout",
     "output_type": "stream",
     "text": [
      "1d array [1 2 3 4 5 6]\n",
      "2d array [[1 2 3]\n",
      " [4 5 6]]\n"
     ]
    }
   ],
   "source": [
    "arr=np.array((1,2,3,4,5,6))\n",
    "print(\"1d array\",arr)\n",
    "#create 2-d array\n",
    "arr1=np.array([[1,2,3],[4,5,6]])\n",
    "print(\"2d array\",arr1)"
   ]
  },
  {
   "cell_type": "code",
   "execution_count": 36,
   "id": "4ca8b956",
   "metadata": {},
   "outputs": [
    {
     "name": "stdout",
     "output_type": "stream",
     "text": [
      "[[[1 2 3]\n",
      "  [4 5 6]]\n",
      "\n",
      " [[1 2 3]\n",
      "  [4 5 6]]]\n"
     ]
    }
   ],
   "source": [
    "#create 3-d array\n",
    "arr3=np.array([[[1,2,3],[4,5,6]],[[1,2,3],[4,5,6]]])\n",
    "print(arr3)"
   ]
  },
  {
   "cell_type": "code",
   "execution_count": 37,
   "id": "5d3c55d4",
   "metadata": {},
   "outputs": [
    {
     "name": "stdout",
     "output_type": "stream",
     "text": [
      "dim of arr 1\n",
      "dim of arr1 2\n",
      "dim of arr3 3\n"
     ]
    }
   ],
   "source": [
    "#dimensions checking of arrays\n",
    "print(\"dim of arr\",arr.ndim)\n",
    "print(\"dim of arr1\",arr1.ndim)\n",
    "print(\"dim of arr3\",arr3.ndim)"
   ]
  },
  {
   "cell_type": "code",
   "execution_count": 39,
   "id": "0783bfc1",
   "metadata": {},
   "outputs": [
    {
     "name": "stdout",
     "output_type": "stream",
     "text": [
      "4\n"
     ]
    }
   ],
   "source": [
    "print(arr1[0][])"
   ]
  },
  {
   "cell_type": "code",
   "execution_count": 40,
   "id": "c504be2a",
   "metadata": {},
   "outputs": [
    {
     "ename": "IndexError",
     "evalue": "invalid index to scalar variable.",
     "output_type": "error",
     "traceback": [
      "\u001b[1;31m---------------------------------------------------------------------------\u001b[0m",
      "\u001b[1;31mIndexError\u001b[0m                                Traceback (most recent call last)",
      "\u001b[1;32m~\\AppData\\Local\\Temp/ipykernel_30408/3355576766.py\u001b[0m in \u001b[0;36m<module>\u001b[1;34m\u001b[0m\n\u001b[1;32m----> 1\u001b[1;33m \u001b[0mprint\u001b[0m\u001b[1;33m(\u001b[0m\u001b[0marr\u001b[0m\u001b[1;33m[\u001b[0m\u001b[1;36m0\u001b[0m\u001b[1;33m]\u001b[0m\u001b[1;33m[\u001b[0m\u001b[1;36m0\u001b[0m\u001b[1;33m]\u001b[0m\u001b[1;33m[\u001b[0m\u001b[1;36m0\u001b[0m\u001b[1;33m]\u001b[0m\u001b[1;33m)\u001b[0m\u001b[1;33m\u001b[0m\u001b[1;33m\u001b[0m\u001b[0m\n\u001b[0m",
      "\u001b[1;31mIndexError\u001b[0m: invalid index to scalar variable."
     ]
    }
   ],
   "source": [
    "print(arr[)"
   ]
  },
  {
   "cell_type": "code",
   "execution_count": 41,
   "id": "44365db0",
   "metadata": {},
   "outputs": [
    {
     "name": "stdout",
     "output_type": "stream",
     "text": [
      "[[1 2 3]\n",
      " [4 5 6]]\n"
     ]
    }
   ],
   "source": [
    "print(arr1)"
   ]
  },
  {
   "cell_type": "code",
   "execution_count": 43,
   "id": "d55cee54",
   "metadata": {},
   "outputs": [
    {
     "name": "stdout",
     "output_type": "stream",
     "text": [
      "6\n"
     ]
    }
   ],
   "source": [
    "print(arr1[1,2])"
   ]
  },
  {
   "cell_type": "code",
   "execution_count": 44,
   "id": "19217bb7",
   "metadata": {},
   "outputs": [
    {
     "name": "stdout",
     "output_type": "stream",
     "text": [
      "6\n"
     ]
    }
   ],
   "source": [
    "print(arr3[0,1,2])"
   ]
  },
  {
   "cell_type": "code",
   "execution_count": 45,
   "id": "d23d0fcd",
   "metadata": {},
   "outputs": [
    {
     "name": "stdout",
     "output_type": "stream",
     "text": [
      "[[1 2 3]\n",
      " [4 5 6]]\n"
     ]
    }
   ],
   "source": [
    "#negative indexing\n",
    "print(arr1)"
   ]
  },
  {
   "cell_type": "code",
   "execution_count": 47,
   "id": "ae4a0ba2",
   "metadata": {},
   "outputs": [
    {
     "name": "stdout",
     "output_type": "stream",
     "text": [
      "6\n"
     ]
    }
   ],
   "source": [
    "print(arr1[1,-1])"
   ]
  },
  {
   "cell_type": "code",
   "execution_count": 59,
   "id": "79bb250a",
   "metadata": {
    "scrolled": true
   },
   "outputs": [
    {
     "name": "stdout",
     "output_type": "stream",
     "text": [
      "[2 3 4]\n",
      "[1 2 3 4]\n",
      "[5 6 7]\n",
      "[5 6]\n"
     ]
    }
   ],
   "source": [
    "#slicing\n",
    "a=np.array([1,2,3,4,5,6,7])\n",
    "print(a[1:4])\n",
    "print(a[:4])\n",
    "print(a[4:])\n",
    "print(a[-3:-1])"
   ]
  },
  {
   "cell_type": "code",
   "execution_count": 60,
   "id": "a6811921",
   "metadata": {},
   "outputs": [
    {
     "name": "stdout",
     "output_type": "stream",
     "text": [
      "2\n",
      "[[ 1  2  3  4  5]\n",
      " [ 6  7  8  9 10]]\n"
     ]
    }
   ],
   "source": [
    "#slicing in 2d\n",
    "b=np.array([[1,2,3,4,5],[6,7,8,9,10]])\n",
    "print(b.ndim)\n",
    "print(b)"
   ]
  },
  {
   "cell_type": "code",
   "execution_count": 61,
   "id": "d64830c9",
   "metadata": {},
   "outputs": [
    {
     "name": "stdout",
     "output_type": "stream",
     "text": [
      "[7 8 9]\n",
      "[8 9]\n",
      "[2 7]\n"
     ]
    }
   ],
   "source": [
    "print(b[1,1:4])\n",
    "print(b[1,2:4])\n",
    "print(b[0:2,1])"
   ]
  },
  {
   "cell_type": "code",
   "execution_count": 62,
   "id": "2059837b",
   "metadata": {},
   "outputs": [
    {
     "name": "stdout",
     "output_type": "stream",
     "text": [
      "shape of array a: (7,)\n",
      "shape of array b: (2, 5)\n"
     ]
    }
   ],
   "source": [
    "#shape of the array\n",
    "print(\"shape of array a:\",a.shape)\n",
    "print(\"shape of array b:\",b.shape)"
   ]
  },
  {
   "cell_type": "code",
   "execution_count": 63,
   "id": "59d22291",
   "metadata": {},
   "outputs": [
    {
     "name": "stdout",
     "output_type": "stream",
     "text": [
      "[1 2 3 4 5]\n",
      "[ 6  7  8  9 10]\n"
     ]
    }
   ],
   "source": [
    "#iterate over array using loop\n",
    "for x in b:\n",
    "    print(x)"
   ]
  },
  {
   "cell_type": "code",
   "execution_count": 67,
   "id": "3239342a",
   "metadata": {},
   "outputs": [
    {
     "name": "stdout",
     "output_type": "stream",
     "text": [
      "1\n",
      "2\n",
      "3\n",
      "4\n",
      "5\n",
      "6\n",
      "1\n",
      "2\n",
      "3\n",
      "4\n",
      "5\n",
      "6\n"
     ]
    }
   ],
   "source": [
    "#scalar elements\n",
    "for x in arr3:\n",
    "    for y in x:\n",
    "        for z in y:\n",
    "            print(z)"
   ]
  },
  {
   "cell_type": "code",
   "execution_count": 68,
   "id": "15007406",
   "metadata": {},
   "outputs": [
    {
     "name": "stdout",
     "output_type": "stream",
     "text": [
      "1\n",
      "2\n",
      "3\n",
      "4\n",
      "5\n",
      "6\n",
      "1\n",
      "2\n",
      "3\n",
      "4\n",
      "5\n",
      "6\n",
      "1\n",
      "2\n",
      "3\n",
      "4\n",
      "5\n",
      "6\n",
      "7\n",
      "8\n",
      "9\n",
      "10\n"
     ]
    }
   ],
   "source": [
    "#nd itter\n",
    "for x in np.nditer(arr3):\n",
    "    print(x)\n",
    "for r in np.nditer(b):\n",
    "    print(r)"
   ]
  },
  {
   "cell_type": "code",
   "execution_count": 69,
   "id": "00537721",
   "metadata": {},
   "outputs": [
    {
     "name": "stdout",
     "output_type": "stream",
     "text": [
      "1.0\n"
     ]
    }
   ],
   "source": [
    "#some trignometry functions\n",
    "x=np.sin(np.pi/2)\n",
    "print(x)"
   ]
  },
  {
   "cell_type": "code",
   "execution_count": 71,
   "id": "8dcc5330",
   "metadata": {},
   "outputs": [
    {
     "name": "stdout",
     "output_type": "stream",
     "text": [
      "[1.         0.8660254  0.70710678 0.58778525]\n",
      "[6.12323400e-17 5.00000000e-01 7.07106781e-01 8.09016994e-01]\n",
      "[1.57079633 3.14159265 4.71238898 6.28318531]\n"
     ]
    }
   ],
   "source": [
    "arr=np.array([np.pi/2,np.pi/3,np.pi/4,np.pi/5])\n",
    "z=np.sin(arr)\n",
    "y=np.cos(arr)\n",
    "print(z)\n",
    "print(y)\n",
    "#radian=pi/180*degree\n",
    "arr=np.array([90,180,270,360])\n",
    "x1=np.deg2rad(arr)\n",
    "print(x1)"
   ]
  },
  {
   "cell_type": "code",
   "execution_count": 72,
   "id": "359b9c2a",
   "metadata": {},
   "outputs": [
    {
     "name": "stdout",
     "output_type": "stream",
     "text": [
      "[ 90. 180. 270. 360.]\n"
     ]
    }
   ],
   "source": [
    "arr1=np.array([np.pi/2,np.pi,1.5*np.pi,2*np.pi])\n",
    "x=np.rad2deg(arr1)\n",
    "print(x)"
   ]
  },
  {
   "cell_type": "code",
   "execution_count": 74,
   "id": "d2520235",
   "metadata": {},
   "outputs": [
    {
     "name": "stdout",
     "output_type": "stream",
     "text": [
      "3.14\n"
     ]
    }
   ],
   "source": [
    "\n",
    "arr=np.around(3.145,2)\n",
    "print(arr)"
   ]
  },
  {
   "cell_type": "raw",
   "id": "62ee8816",
   "metadata": {},
   "source": []
  },
  {
   "cell_type": "code",
   "execution_count": 77,
   "id": "9aa296b0",
   "metadata": {},
   "outputs": [
    {
     "name": "stdout",
     "output_type": "stream",
     "text": [
      "[-4.  3.]\n"
     ]
    }
   ],
   "source": [
    "arr=np.floor([-3.166,3.667])\n",
    "print(arr)"
   ]
  },
  {
   "cell_type": "code",
   "execution_count": null,
   "id": "f8e7beed",
   "metadata": {},
   "outputs": [],
   "source": [
    "arr=np.cell([-3.166,3.667])\n",
    "print(arr)"
   ]
  },
  {
   "cell_type": "code",
   "execution_count": 78,
   "id": "d98d391d",
   "metadata": {},
   "outputs": [
    {
     "name": "stdout",
     "output_type": "stream",
     "text": [
      "[-3.  3.]\n"
     ]
    }
   ],
   "source": [
    "arr=np.trunc([-3.166,3.667])\n",
    "print(arr)"
   ]
  },
  {
   "cell_type": "code",
   "execution_count": 79,
   "id": "37a444b0",
   "metadata": {},
   "outputs": [
    {
     "name": "stdout",
     "output_type": "stream",
     "text": [
      "[-3.  3.]\n"
     ]
    }
   ],
   "source": [
    "arr=np.fix([-3.166,3.667])\n",
    "print(arr)"
   ]
  },
  {
   "cell_type": "code",
   "execution_count": 80,
   "id": "badebc50",
   "metadata": {},
   "outputs": [
    {
     "name": "stdout",
     "output_type": "stream",
     "text": [
      "[5 7 9]\n"
     ]
    }
   ],
   "source": [
    "#mathematical functions\n",
    "arr1=np.array([1,2,3])\n",
    "arr2=np.array([4,5,6])\n",
    "addarray=np.add(arr1,arr2)\n",
    "print(addarray)"
   ]
  },
  {
   "cell_type": "code",
   "execution_count": 84,
   "id": "7da650d4",
   "metadata": {},
   "outputs": [
    {
     "name": "stdout",
     "output_type": "stream",
     "text": [
      "21\n"
     ]
    }
   ],
   "source": [
    "sumarray=np.sum([arr1,arr2])\n",
    "print(sumarray)"
   ]
  },
  {
   "cell_type": "code",
   "execution_count": 88,
   "id": "bb9726ac",
   "metadata": {},
   "outputs": [
    {
     "name": "stdout",
     "output_type": "stream",
     "text": [
      "[5 7 9]\n"
     ]
    }
   ],
   "source": [
    "#you can sum along with axis\n",
    "addarray=np.sum([arr1,arr2],axis=)\n",
    "print(addarray)"
   ]
  },
  {
   "cell_type": "code",
   "execution_count": 89,
   "id": "2dc1e979",
   "metadata": {},
   "outputs": [
    {
     "name": "stdout",
     "output_type": "stream",
     "text": [
      "5040\n"
     ]
    }
   ],
   "source": [
    "a=np.array([1,2,3,4,5,6,7])\n",
    "prodarray=np.prod(a)\n",
    "print(prodarray)"
   ]
  },
  {
   "cell_type": "code",
   "execution_count": 93,
   "id": "8f1f86e3",
   "metadata": {},
   "outputs": [
    {
     "ename": "IndexError",
     "evalue": "too many indices for array: array is 2-dimensional, but 4 were indexed",
     "output_type": "error",
     "traceback": [
      "\u001b[1;31m---------------------------------------------------------------------------\u001b[0m",
      "\u001b[1;31mIndexError\u001b[0m                                Traceback (most recent call last)",
      "\u001b[1;32m~\\AppData\\Local\\Temp/ipykernel_30408/401813859.py\u001b[0m in \u001b[0;36m<module>\u001b[1;34m\u001b[0m\n\u001b[0;32m      1\u001b[0m \u001b[1;31m#create the prod over axix\u001b[0m\u001b[1;33m\u001b[0m\u001b[1;33m\u001b[0m\u001b[0m\n\u001b[1;32m----> 2\u001b[1;33m \u001b[0mproarray\u001b[0m\u001b[1;33m=\u001b[0m\u001b[0mnp\u001b[0m\u001b[1;33m.\u001b[0m\u001b[0mprod\u001b[0m\u001b[1;33m(\u001b[0m\u001b[0mb\u001b[0m\u001b[1;33m[\u001b[0m\u001b[1;36m0\u001b[0m\u001b[1;33m,\u001b[0m\u001b[1;36m0\u001b[0m\u001b[1;33m:\u001b[0m\u001b[1;33m,\u001b[0m\u001b[1;36m1\u001b[0m\u001b[1;33m,\u001b[0m\u001b[1;36m0\u001b[0m\u001b[1;33m:\u001b[0m\u001b[1;33m]\u001b[0m\u001b[1;33m)\u001b[0m\u001b[1;33m\u001b[0m\u001b[1;33m\u001b[0m\u001b[0m\n\u001b[0m\u001b[0;32m      3\u001b[0m \u001b[0mprint\u001b[0m\u001b[1;33m(\u001b[0m\u001b[0mproarray\u001b[0m\u001b[1;33m)\u001b[0m\u001b[1;33m\u001b[0m\u001b[1;33m\u001b[0m\u001b[0m\n",
      "\u001b[1;31mIndexError\u001b[0m: too many indices for array: array is 2-dimensional, but 4 were indexed"
     ]
    }
   ],
   "source": [
    "#create the prod over axix \n",
    "proarray=np.prod(b[0,0:,1,0:])\n",
    "print(proarray)"
   ]
  },
  {
   "cell_type": "code",
   "execution_count": 94,
   "id": "cdc96861",
   "metadata": {},
   "outputs": [
    {
     "name": "stdout",
     "output_type": "stream",
     "text": [
      "[1 2 3 4 5 6 7]\n"
     ]
    }
   ],
   "source": [
    "a=np.array([1,2,3,4,5,6,7])\n",
    "prodovercolumn=np.prod([a],axis=0)\n",
    "print(prodovercolumn)"
   ]
  },
  {
   "cell_type": "code",
   "execution_count": 95,
   "id": "dc01a915",
   "metadata": {},
   "outputs": [
    {
     "name": "stdout",
     "output_type": "stream",
     "text": [
      "[5040]\n"
     ]
    }
   ],
   "source": [
    "a=np.array([1,2,3,4,5,6,7])\n",
    "prodovercolumn=np.prod([a],axis=1)\n",
    "print(prodovercolumn)"
   ]
  },
  {
   "cell_type": "code",
   "execution_count": 96,
   "id": "7b00178a",
   "metadata": {},
   "outputs": [
    {
     "name": "stdout",
     "output_type": "stream",
     "text": [
      "[30 32 34 36 38 40]\n"
     ]
    }
   ],
   "source": [
    "#arthimetic operations\n",
    "r1=np.array([10,11,12,13,14,15])\n",
    "r2=np.array([20,21,22,23,24,25])\n",
    "addarray=np.add(r1,r2)\n",
    "print(addarray)"
   ]
  },
  {
   "cell_type": "code",
   "execution_count": 99,
   "id": "fc4bcd3c",
   "metadata": {},
   "outputs": [
    {
     "name": "stdout",
     "output_type": "stream",
     "text": [
      "[10 10 10 10 10 10]\n",
      "[30 32 34 36 38 40]\n",
      "[2.         1.90909091 1.83333333 1.76923077 1.71428571 1.66666667]\n"
     ]
    }
   ],
   "source": [
    "\n",
    "subarray=np.subtract(r2,r1)\n",
    "print(subarray)\n",
    "mulaarray=np.multiply(r1,r2)\n",
    "print(addarray)\n",
    "\n",
    "divarray=np.divide(r2,r1)\n",
    "print(divarray)"
   ]
  },
  {
   "cell_type": "code",
   "execution_count": 100,
   "id": "52441f9c",
   "metadata": {},
   "outputs": [
    {
     "name": "stdout",
     "output_type": "stream",
     "text": [
      "[   1    4   27  256 3125]\n"
     ]
    }
   ],
   "source": [
    "r1=np.array([1,2,3,4,5])\n",
    "r2=np.array([1,2,3,4,5])\n",
    "powa=np.power(r1,r2)\n",
    "print(powa)"
   ]
  },
  {
   "cell_type": "code",
   "execution_count": 103,
   "id": "f3be4447",
   "metadata": {},
   "outputs": [
    {
     "name": "stdout",
     "output_type": "stream",
     "text": [
      "[1 2 3 4 5 6]\n"
     ]
    }
   ],
   "source": [
    "r1=np.array([1,-2,3,-4,5,6])\n",
    "absA=np.absolute(r1)\n",
    "print(absA)"
   ]
  },
  {
   "cell_type": "code",
   "execution_count": 102,
   "id": "2dc9bbe2",
   "metadata": {},
   "outputs": [
    {
     "name": "stdout",
     "output_type": "stream",
     "text": [
      "(array([1, 1, 1, 1, 1], dtype=int32), array([0, 0, 0, 0, 0], dtype=int32))\n"
     ]
    }
   ],
   "source": [
    "r1=np.array([1,2,3,4,5])\n",
    "r2=np.array([1,2,3,4,5])\n",
    "divmodi=np.divmod(r1,r2)\n",
    "print(divmodi)"
   ]
  },
  {
   "cell_type": "code",
   "execution_count": null,
   "id": "37bfa993",
   "metadata": {},
   "outputs": [],
   "source": [
    "mean median mod varaince stddev\n",
    "r1=np.array([1,2,3,4,5])\n",
    "r2=np.array([1,2,3,4,5])"
   ]
  },
  {
   "cell_type": "code",
   "execution_count": 116,
   "id": "12a0ced3",
   "metadata": {},
   "outputs": [
    {
     "name": "stdout",
     "output_type": "stream",
     "text": [
      "32.3\n",
      "21.0\n",
      "[0 1 1 3 4]\n",
      "32.75072518281084\n"
     ]
    }
   ],
   "source": [
    "r1=np.array([1,2,3,4,5])\n",
    "r2=np.array([85,45,37,87,54])\n",
    "mean1=np.mean([r1,r2])\n",
    "print(mean1)\n",
    "mead1=np.median([r1,r2])\n",
    "print(mead1)\n",
    "mod1=np.mod(r2,r1)\n",
    "print(mod1)\n",
    "stddev1=np.std([r1,r2])\n",
    "print(stddev1)\n"
   ]
  },
  {
   "cell_type": "code",
   "execution_count": null,
   "id": "6199f2f8",
   "metadata": {},
   "outputs": [],
   "source": []
  }
 ],
 "metadata": {
  "kernelspec": {
   "display_name": "Python 3 (ipykernel)",
   "language": "python",
   "name": "python3"
  },
  "language_info": {
   "codemirror_mode": {
    "name": "ipython",
    "version": 3
   },
   "file_extension": ".py",
   "mimetype": "text/x-python",
   "name": "python",
   "nbconvert_exporter": "python",
   "pygments_lexer": "ipython3",
   "version": "3.9.7"
  }
 },
 "nbformat": 4,
 "nbformat_minor": 5
}
