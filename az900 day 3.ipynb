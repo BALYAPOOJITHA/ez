{
 "cells": [
  {
   "cell_type": "markdown",
   "id": "f534756f",
   "metadata": {},
   "source": [
    "inheritance\n",
    "1.single\n",
    "2.mulitple\n",
    "3.multilevel\n",
    "4.hierarichal\n",
    "5.hybrid\n",
    "\n"
   ]
  },
  {
   "cell_type": "code",
   "execution_count": 4,
   "id": "3ffd88ef",
   "metadata": {},
   "outputs": [
    {
     "name": "stdout",
     "output_type": "stream",
     "text": [
      "animal\n",
      "bark\n",
      "animal\n"
     ]
    }
   ],
   "source": [
    "class animal:\n",
    "    def speak(self):\n",
    "        print(\"animal\")\n",
    "class dog(animal):\n",
    "    def bark(self):\n",
    "        print(\"bark\")\n",
    "d=dog()\n",
    "d.speak()\n",
    "d.bark()\n",
    "a=animal()\n",
    "a.speak()"
   ]
  },
  {
   "cell_type": "code",
   "execution_count": 15,
   "id": "9227d703",
   "metadata": {},
   "outputs": [
    {
     "name": "stdout",
     "output_type": "stream",
     "text": [
      "animal\n",
      "bark\n",
      "this is grand child class and eat method\n",
      "animal\n",
      "bark\n",
      "animal\n"
     ]
    }
   ],
   "source": [
    "\n",
    "#multilevel inheritance\n",
    "#grandparent animal\n",
    "class animal:\n",
    "    def speak(self):\n",
    "        print(\"animal\")\n",
    "        #childclass\n",
    "class dog(animal):\n",
    "    def bark(self):\n",
    "        print(\"bark\")\n",
    "class dogchild(dog): #inheritance of dog into dogchild class\n",
    "    def eat(self):\n",
    "        print(\"this is grand child class and eat method\")\n",
    "c=dogchild()\n",
    "c.speak()\n",
    "c.bark()\n",
    "c.eat()\n",
    "d=dog()\n",
    "d.speak()\n",
    "d.bark()\n",
    "a=animal()\n",
    "a.speak()\n"
   ]
  },
  {
   "cell_type": "code",
   "execution_count": 24,
   "id": "f4ee53d5",
   "metadata": {},
   "outputs": [
    {
     "name": "stdout",
     "output_type": "stream",
     "text": [
      "this is calculation class\n",
      "calling sum 5\n",
      "this is calculation class which is base 2\n",
      "calling base2 6\n",
      "this id \n",
      "calling base3 2.0\n",
      "this is calculation class which is base 2\n",
      "6\n",
      "this is calculation class\n",
      "5\n"
     ]
    }
   ],
   "source": [
    "class calculation1:\n",
    "    def sum(self,a,b):\n",
    "        print(\"this is calculation class\")\n",
    "        return a+b\n",
    "class calculations2:\n",
    "    def multiple(self,a,b):\n",
    "        print(\"this is calculation class which is base 2\")\n",
    "        return a*b\n",
    "class derived(calculation1,calculations2):\n",
    "    def divide(seld,a,b):\n",
    "        print(\"this id \")\n",
    "        return a/b\n",
    "#intansiation\n",
    "d=derived()\n",
    "print(\"calling sum\",d.sum(2,3))\n",
    "print(\"calling base2\",d.multiple(2,3))\n",
    "print(\"calling base3\",d.divide(6,3))\n",
    "m=calculations2()\n",
    "print(m.multiple(2,3))\n",
    "c=calculation1()\n",
    "print(c.sum(2,3))\n",
    "    \n"
   ]
  },
  {
   "cell_type": "code",
   "execution_count": null,
   "id": "aee90d4e",
   "metadata": {},
   "outputs": [],
   "source": [
    "#hierarichiacal \n",
    "#hybrid"
   ]
  },
  {
   "cell_type": "code",
   "execution_count": 26,
   "id": "e930bb29",
   "metadata": {},
   "outputs": [
    {
     "name": "stdout",
     "output_type": "stream",
     "text": [
      "True\n",
      "False\n",
      "True\n"
     ]
    }
   ],
   "source": [
    "print(issubclass(derived,calculations2))\n",
    "print(issubclass(calculations2,derived))\n",
    "print(issubclass(derived,calculation1))"
   ]
  },
  {
   "cell_type": "code",
   "execution_count": 27,
   "id": "1403a4ee",
   "metadata": {},
   "outputs": [
    {
     "name": "stdout",
     "output_type": "stream",
     "text": [
      "True\n"
     ]
    }
   ],
   "source": [
    "print(isinstance(d,calculation1))"
   ]
  },
  {
   "cell_type": "code",
   "execution_count": 30,
   "id": "e4765199",
   "metadata": {},
   "outputs": [
    {
     "name": "stdout",
     "output_type": "stream",
     "text": [
      "b1 8\n",
      "b2 10\n",
      "b3 7\n"
     ]
    }
   ],
   "source": [
    "class bank:\n",
    "    def getroi(self):\n",
    "        return 8\n",
    "class sbi(bank):\n",
    "    def getroi(self):\n",
    "        return 10\n",
    "class idbi(bank):\n",
    "    def getroi(self):\n",
    "        return 7\n",
    "b1=bank()\n",
    "b2=sbi()\n",
    "b3=idbi()\n",
    "print(\"b1\",b1.getroi())\n",
    "print(\"b2\",b2.getroi())\n",
    "print(\"b3\",b3.getroi())"
   ]
  },
  {
   "cell_type": "code",
   "execution_count": null,
   "id": "23555471",
   "metadata": {},
   "outputs": [],
   "source": [
    "#data abstraction\n"
   ]
  },
  {
   "cell_type": "code",
   "execution_count": 32,
   "id": "1a0db80f",
   "metadata": {},
   "outputs": [
    {
     "ename": "AttributeError",
     "evalue": "'employee' object has no attribute '__count'",
     "output_type": "error",
     "traceback": [
      "\u001b[1;31m---------------------------------------------------------------------------\u001b[0m",
      "\u001b[1;31mAttributeError\u001b[0m                            Traceback (most recent call last)",
      "\u001b[1;32m~\\AppData\\Local\\Temp/ipykernel_28612/807272524.py\u001b[0m in \u001b[0;36m<module>\u001b[1;34m\u001b[0m\n\u001b[0;32m      8\u001b[0m \u001b[0me\u001b[0m\u001b[1;33m=\u001b[0m\u001b[0memployee\u001b[0m\u001b[1;33m(\u001b[0m\u001b[1;33m)\u001b[0m\u001b[1;33m\u001b[0m\u001b[1;33m\u001b[0m\u001b[0m\n\u001b[0;32m      9\u001b[0m \u001b[0me1\u001b[0m\u001b[1;33m=\u001b[0m\u001b[0memployee\u001b[0m\u001b[1;33m(\u001b[0m\u001b[1;33m)\u001b[0m\u001b[1;33m\u001b[0m\u001b[1;33m\u001b[0m\u001b[0m\n\u001b[1;32m---> 10\u001b[1;33m \u001b[0mprint\u001b[0m\u001b[1;33m(\u001b[0m\u001b[0me\u001b[0m\u001b[1;33m.\u001b[0m\u001b[0m__count\u001b[0m\u001b[1;33m)\u001b[0m\u001b[1;33m\u001b[0m\u001b[1;33m\u001b[0m\u001b[0m\n\u001b[0m\u001b[0;32m     11\u001b[0m \u001b[0me1\u001b[0m\u001b[1;33m.\u001b[0m\u001b[0mdisplay\u001b[0m\u001b[1;33m(\u001b[0m\u001b[1;33m)\u001b[0m\u001b[1;33m\u001b[0m\u001b[1;33m\u001b[0m\u001b[0m\n",
      "\u001b[1;31mAttributeError\u001b[0m: 'employee' object has no attribute '__count'"
     ]
    }
   ],
   "source": [
    "class employee:\n",
    "    __count=0;#private member\n",
    "    def __init__(self):\n",
    "        employee.__count=employee.__count+1\n",
    "    def display(self):\n",
    "        print(\"no of employees\",employee.__count)\n",
    "        \n",
    "e=employee()\n",
    "e1=employee()\n",
    "#print(e.__count)\n",
    "e1.display()"
   ]
  },
  {
   "cell_type": "code",
   "execution_count": 41,
   "id": "d4ab14c2",
   "metadata": {},
   "outputs": [
    {
     "name": "stdout",
     "output_type": "stream",
     "text": [
      "try 2\n",
      "WE 3\n"
     ]
    }
   ],
   "source": [
    "class base:\n",
    "    def __init__(self):\n",
    "        self._a=2\n",
    "        self.__b=9\n",
    "class derived(base):\n",
    "    def __init(self):\n",
    "        base.__init__(self)\n",
    "    def display(self):\n",
    "        print(\"try\",self._a)\n",
    "        self._a=3\n",
    "        print(\"WE\",self._a)\n",
    "       # print(\"try\",self.__b)\n",
    "obj1=derived()\n",
    "obj2=base()\n",
    "obj1.display()\n",
    "#print(\"call obj1\",obj1._a)\n",
    "#print(\"call obj2\",obj2._a)\n",
    "\n",
    "        "
   ]
  },
  {
   "cell_type": "code",
   "execution_count": null,
   "id": "80fc27f5",
   "metadata": {},
   "outputs": [],
   "source": [
    "#polymorphoshim"
   ]
  },
  {
   "cell_type": "code",
   "execution_count": 43,
   "id": "76eb9927",
   "metadata": {},
   "outputs": [
    {
     "name": "stdout",
     "output_type": "stream",
     "text": [
      "5\n",
      "9\n"
     ]
    }
   ],
   "source": [
    "def add(x,y,z=0):\n",
    "    return x+y+z\n",
    "print(add(2,3))\n",
    "print(add(2,3,4))"
   ]
  },
  {
   "cell_type": "code",
   "execution_count": 46,
   "id": "a2bf291a",
   "metadata": {},
   "outputs": [
    {
     "name": "stdout",
     "output_type": "stream",
     "text": [
      "hindi\n",
      "washington\n"
     ]
    }
   ],
   "source": [
    "class india():\n",
    "    def capital(self):\n",
    "        print(\"newdelhi\")\n",
    "    def language(self):\n",
    "        print(\"hindi\")\n",
    "    def type(self):\n",
    "        print(\"developing\")\n",
    "class usa():\n",
    "    def capital(self):\n",
    "        print(\"washington\")\n",
    "    def language(self):\n",
    "        print(\"english\")\n",
    "    def type(self):\n",
    "        print(\"developing\")\n",
    "obj1=india()\n",
    "obj2=usa()\n",
    "obj1.language()\n",
    "obj2.capital()\n",
    "\n",
    "    "
   ]
  },
  {
   "cell_type": "code",
   "execution_count": 47,
   "id": "f1ad5d3f",
   "metadata": {},
   "outputs": [
    {
     "name": "stdout",
     "output_type": "stream",
     "text": [
      "newdelhi\n",
      "hindi\n",
      "developing\n",
      "washington\n",
      "english\n",
      "developing\n"
     ]
    }
   ],
   "source": [
    "for country in(obj1,obj2):\n",
    "    country.capital()\n",
    "    country.language()\n",
    "    country.type()"
   ]
  },
  {
   "cell_type": "code",
   "execution_count": 48,
   "id": "d1cd2571",
   "metadata": {},
   "outputs": [
    {
     "name": "stdout",
     "output_type": "stream",
     "text": [
      "male/female\n"
     ]
    }
   ],
   "source": [
    "print(\"male\",\"female\",sep='/')"
   ]
  },
  {
   "cell_type": "code",
   "execution_count": 50,
   "id": "2100a4af",
   "metadata": {},
   "outputs": [
    {
     "name": "stdout",
     "output_type": "stream",
     "text": [
      "welcome  "
     ]
    }
   ],
   "source": [
    "print(\"welcome\",end='  ')"
   ]
  },
  {
   "cell_type": "code",
   "execution_count": 56,
   "id": "004a0542",
   "metadata": {},
   "outputs": [
    {
     "name": "stdout",
     "output_type": "stream",
     "text": [
      "enter your namepo\n",
      "welcome po to python training\n"
     ]
    }
   ],
   "source": [
    "str=input(\"enter your name\")\n",
    "print(\"welcome \"+str+\" to python training\")"
   ]
  },
  {
   "cell_type": "code",
   "execution_count": null,
   "id": "89dbbec0",
   "metadata": {},
   "outputs": [],
   "source": [
    "x,y=int(input(\"enter the value\"))\n",
    "print(\"x:\",x)\n",
    "print(\"y:\",y)"
   ]
  },
  {
   "cell_type": "code",
   "execution_count": null,
   "id": "008638c8",
   "metadata": {},
   "outputs": [],
   "source": [
    "number=88.9\n",
    "num=5\n",
    "name=\"sr university\"\n",
    "print(\"%s %d %f\"%(name,num,number))"
   ]
  },
  {
   "cell_type": "code",
   "execution_count": null,
   "id": "56bf26f0",
   "metadata": {},
   "outputs": [],
   "source": []
  }
 ],
 "metadata": {
  "kernelspec": {
   "display_name": "Python 3 (ipykernel)",
   "language": "python",
   "name": "python3"
  },
  "language_info": {
   "codemirror_mode": {
    "name": "ipython",
    "version": 3
   },
   "file_extension": ".py",
   "mimetype": "text/x-python",
   "name": "python",
   "nbconvert_exporter": "python",
   "pygments_lexer": "ipython3",
   "version": "3.9.7"
  }
 },
 "nbformat": 4,
 "nbformat_minor": 5
}
