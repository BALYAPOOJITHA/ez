{
 "cells": [
  {
   "cell_type": "code",
   "execution_count": null,
   "id": "f345a4f1",
   "metadata": {},
   "outputs": [],
   "source": [
    "def hanoi(n,A,B,C):\n",
    "    if(n>0):\n",
    "        hanoi(n-1,A,C,B)\n",
    "        if A:\n",
    "            C.append(A.pop())\n",
    "        hanoi(n,B,A,C)\n",
    "A=[1,2,3,4]\n",
    "B=[]\n",
    "C=[]\n",
    "hanoi(len(A),A,B,C)\n",
    "print(A,B,C)"
   ]
  },
  {
   "cell_type": "code",
   "execution_count": 4,
   "id": "0a72c748",
   "metadata": {},
   "outputs": [
    {
     "name": "stdout",
     "output_type": "stream",
     "text": [
      "Enter diamond's height: 4\n",
      "     *\n",
      "    ***\n",
      "   *****\n",
      "  *******\n"
     ]
    }
   ],
   "source": [
    "h = eval(input(\"Enter diamond's height: \"))\n",
    "for x in range(h):\n",
    "    print(\" \" * (h - x), \"*\" * (2*x + 1))\n"
   ]
  },
  {
   "cell_type": "code",
   "execution_count": 6,
   "id": "16b78b26",
   "metadata": {},
   "outputs": [
    {
     "name": "stdout",
     "output_type": "stream",
     "text": [
      "  *******\n",
      "   *****\n",
      "    ***\n",
      "     *\n"
     ]
    }
   ],
   "source": [
    "n=4\n",
    "for x in range(h - 1, -1, -1):\n",
    "    print(\" \" * (h - x), \"*\" * (2*x + 1))"
   ]
  },
  {
   "cell_type": "code",
   "execution_count": null,
   "id": "f3dcc85b",
   "metadata": {},
   "outputs": [],
   "source": [
    "]"
   ]
  }
 ],
 "metadata": {
  "kernelspec": {
   "display_name": "Python 3 (ipykernel)",
   "language": "python",
   "name": "python3"
  },
  "language_info": {
   "codemirror_mode": {
    "name": "ipython",
    "version": 3
   },
   "file_extension": ".py",
   "mimetype": "text/x-python",
   "name": "python",
   "nbconvert_exporter": "python",
   "pygments_lexer": "ipython3",
   "version": "3.9.7"
  }
 },
 "nbformat": 4,
 "nbformat_minor": 5
}
