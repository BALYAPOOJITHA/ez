{
 "cells": [
  {
   "cell_type": "code",
   "execution_count": 1,
   "id": "6bb61cbe",
   "metadata": {},
   "outputs": [],
   "source": [
    "import pandas as pd\n",
    "import numpy as np"
   ]
  },
  {
   "cell_type": "code",
   "execution_count": 2,
   "id": "9fc13181",
   "metadata": {},
   "outputs": [
    {
     "data": {
      "text/html": [
       "<div>\n",
       "<style scoped>\n",
       "    .dataframe tbody tr th:only-of-type {\n",
       "        vertical-align: middle;\n",
       "    }\n",
       "\n",
       "    .dataframe tbody tr th {\n",
       "        vertical-align: top;\n",
       "    }\n",
       "\n",
       "    .dataframe thead th {\n",
       "        text-align: right;\n",
       "    }\n",
       "</style>\n",
       "<table border=\"1\" class=\"dataframe\">\n",
       "  <thead>\n",
       "    <tr style=\"text-align: right;\">\n",
       "      <th></th>\n",
       "      <th>SAT</th>\n",
       "      <th>GPA</th>\n",
       "    </tr>\n",
       "  </thead>\n",
       "  <tbody>\n",
       "    <tr>\n",
       "      <th>0</th>\n",
       "      <td>1714</td>\n",
       "      <td>2.40</td>\n",
       "    </tr>\n",
       "    <tr>\n",
       "      <th>1</th>\n",
       "      <td>1664</td>\n",
       "      <td>2.52</td>\n",
       "    </tr>\n",
       "    <tr>\n",
       "      <th>2</th>\n",
       "      <td>1760</td>\n",
       "      <td>2.54</td>\n",
       "    </tr>\n",
       "    <tr>\n",
       "      <th>3</th>\n",
       "      <td>1685</td>\n",
       "      <td>2.74</td>\n",
       "    </tr>\n",
       "    <tr>\n",
       "      <th>4</th>\n",
       "      <td>1693</td>\n",
       "      <td>2.83</td>\n",
       "    </tr>\n",
       "  </tbody>\n",
       "</table>\n",
       "</div>"
      ],
      "text/plain": [
       "    SAT   GPA\n",
       "0  1714  2.40\n",
       "1  1664  2.52\n",
       "2  1760  2.54\n",
       "3  1685  2.74\n",
       "4  1693  2.83"
      ]
     },
     "execution_count": 2,
     "metadata": {},
     "output_type": "execute_result"
    }
   ],
   "source": [
    "df=pd.read_csv(\"slr.csv\")\n",
    "df.head()"
   ]
  },
  {
   "cell_type": "code",
   "execution_count": 3,
   "id": "8d19d1aa",
   "metadata": {},
   "outputs": [
    {
     "data": {
      "text/plain": [
       "[<matplotlib.lines.Line2D at 0x1c0c14f18e0>]"
      ]
     },
     "execution_count": 3,
     "metadata": {},
     "output_type": "execute_result"
    },
    {
     "data": {
      "image/png": "[encoded data removed]",
      "text/plain": [
       "<Figure size 432x288 with 1 Axes>"
      ]
     },
     "metadata": {
      "needs_background": "light"
     },
     "output_type": "display_data"
    }
   ],
   "source": [
    "from matplotlib import pyplot as p\n",
    "x=df['SAT']\n",
    "y=df['GPA']\n",
    "p.xlabel('sat')\n",
    "p.ylabel('gpa')\n",
    "p.plot(x,y,marker='*')\n"
   ]
  },
  {
   "cell_type": "code",
   "execution_count": 5,
   "id": "07a2d17a",
   "metadata": {},
   "outputs": [
    {
     "name": "stdout",
     "output_type": "stream",
     "text": [
      "[[1714]\n",
      " [1664]\n",
      " [1760]\n",
      " [1685]\n",
      " [1693]\n",
      " [1670]\n",
      " [1764]\n",
      " [1764]\n",
      " [1792]\n",
      " [1850]\n",
      " [1735]\n",
      " [1775]\n",
      " [1735]\n",
      " [1712]\n",
      " [1773]\n",
      " [1872]\n",
      " [1755]\n",
      " [1674]\n",
      " [1842]\n",
      " [1786]\n",
      " [1761]\n",
      " [1722]\n",
      " [1663]\n",
      " [1687]\n",
      " [1974]\n",
      " [1826]\n",
      " [1787]\n",
      " [1821]\n",
      " [2020]\n",
      " [1794]\n",
      " [1769]\n",
      " [1934]\n",
      " [1775]\n",
      " [1855]\n",
      " [1880]\n",
      " [1849]\n",
      " [1808]\n",
      " [1954]\n",
      " [1777]\n",
      " [1831]\n",
      " [1865]\n",
      " [1850]\n",
      " [1966]\n",
      " [1702]\n",
      " [1990]\n",
      " [1925]\n",
      " [1824]\n",
      " [1956]\n",
      " [1857]\n",
      " [1979]\n",
      " [1802]\n",
      " [1855]\n",
      " [1907]\n",
      " [1634]\n",
      " [1879]\n",
      " [1887]\n",
      " [1730]\n",
      " [1953]\n",
      " [1781]\n",
      " [1891]\n",
      " [1964]\n",
      " [1808]\n",
      " [1893]\n",
      " [2041]\n",
      " [1893]\n",
      " [1832]\n",
      " [1850]\n",
      " [1934]\n",
      " [1861]\n",
      " [1931]\n",
      " [1933]\n",
      " [1778]\n",
      " [1975]\n",
      " [1934]\n",
      " [2021]\n",
      " [2015]\n",
      " [1997]\n",
      " [2020]\n",
      " [1843]\n",
      " [1936]\n",
      " [1810]\n",
      " [1987]\n",
      " [1962]\n",
      " [2050]]\n"
     ]
    }
   ],
   "source": [
    "train_x=np.array(df[[\"SAT\"]])\n",
    "train_y=np.array(df[[\"GPA\"]])\n",
    "print(train_x)"
   ]
  },
  {
   "cell_type": "code",
   "execution_count": 6,
   "id": "94d020fd",
   "metadata": {},
   "outputs": [],
   "source": [
    "from sklearn.model_selection import train_test_split\n",
    "X_train,X_test,y_test,y_train=train_test_split(x,y,test_size=0.3,random_state=0)"
   ]
  },
  {
   "cell_type": "code",
   "execution_count": null,
   "id": "c7871f03",
   "metadata": {},
   "outputs": [],
   "source": []
  }
 ],
 "metadata": {
  "kernelspec": {
   "display_name": "Python 3 (ipykernel)",
   "language": "python",
   "name": "python3"
  },
  "language_info": {
   "codemirror_mode": {
    "name": "ipython",
    "version": 3
   },
   "file_extension": ".py",
   "mimetype": "text/x-python",
   "name": "python",
   "nbconvert_exporter": "python",
   "pygments_lexer": "ipython3",
   "version": "3.9.7"
  }
 },
 "nbformat": 4,
 "nbformat_minor": 5
}
