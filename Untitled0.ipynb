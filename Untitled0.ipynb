{
 "cells": [
  {
   "cell_type": "code",
   "execution_count": 11,
   "metadata": {
    "id": "3X_Ezf2GlE1-"
   },
   "outputs": [],
   "source": [
    "import pandas as pd\n",
    "\n"
   ]
  },
  {
   "cell_type": "code",
   "execution_count": 13,
   "metadata": {},
   "outputs": [],
   "source": [
    "df=pd.read_csv(\"apy_2.csv\")"
   ]
  },
  {
   "cell_type": "code",
   "execution_count": 14,
   "metadata": {
    "colab": {
     "base_uri": "https://localhost:8080/"
    },
    "id": "khctts-GmeCQ",
    "outputId": "5493a543-121c-43b7-88b5-2d97416c6e8e"
   },
   "outputs": [
    {
     "name": "stdout",
     "output_type": "stream",
     "text": [
      "       Unnamed: 0      State_Name District_Name  Crop_Year       Season  \\\n",
      "0               0       Karnataka         UDUPI       2005  Rabi          \n",
      "1               1  Madhya Pradesh       GWALIOR       2003  Whole Year    \n",
      "2               2  Andhra Pradesh      CHITTOOR       2010  Rabi          \n",
      "3               3  Andhra Pradesh       KRISHNA       2014  Rabi          \n",
      "4               4   Uttar Pradesh     SULTANPUR       2011  Rabi          \n",
      "...           ...             ...           ...        ...          ...   \n",
      "73822       73822   Uttar Pradesh     SULTANPUR       2001  Rabi          \n",
      "73823       73823    Chhattisgarh          DURG       2014  Rabi          \n",
      "73824       73824   Uttar Pradesh    RAE BARELI       2010  Summer        \n",
      "73825       73825           Assam        KAMRUP       1998  Rabi          \n",
      "73826       73826  Andhra Pradesh        GUNTUR       2005  Rabi          \n",
      "\n",
      "                    Crop      Area  Production  \n",
      "0             Horse-gram    1122.0       836.0  \n",
      "1                Brinjal     194.0         0.0  \n",
      "2                Sesamum     334.0       118.0  \n",
      "3                 Tomato     538.0      7289.0  \n",
      "4              Coriander      59.0        33.0  \n",
      "...                  ...       ...         ...  \n",
      "73822  Rapeseed &Mustard    3727.0      3239.0  \n",
      "73823              Wheat    6364.0      7367.0  \n",
      "73824  Moong(Green Gram)     489.0       224.0  \n",
      "73825              Wheat    6431.0      6940.0  \n",
      "73826               Urad  100125.0     78298.0  \n",
      "\n",
      "[72679 rows x 8 columns]\n"
     ]
    }
   ],
   "source": [
    "print(df.dropna())"
   ]
  },
  {
   "cell_type": "code",
   "execution_count": null,
   "metadata": {},
   "outputs": [],
   "source": []
  },
  {
   "cell_type": "code",
   "execution_count": 15,
   "metadata": {
    "colab": {
     "base_uri": "https://localhost:8080/"
    },
    "id": "jGSwvaUBokXP",
    "outputId": "3ce979cc-f7c3-4c5f-c404-a939e4c5f4d9"
   },
   "outputs": [
    {
     "name": "stdout",
     "output_type": "stream",
     "text": [
      "32168726739.609997\n"
     ]
    }
   ],
   "source": [
    "total = df['Production'].sum()\n",
    "print(total)"
   ]
  },
  {
   "cell_type": "code",
   "execution_count": 16,
   "metadata": {
    "colab": {
     "base_uri": "https://localhost:8080/"
    },
    "id": "1dRd-fwerELF",
    "outputId": "0f8564cb-9d00-49b2-e65d-7676f98b7631"
   },
   "outputs": [
    {
     "name": "stdout",
     "output_type": "stream",
     "text": [
      "51992876.7\n"
     ]
    }
   ],
   "source": [
    "total = df.loc[df['Season'] == 'Summer     ', 'Production'].sum()\n",
    "print(total)"
   ]
  },
  {
   "cell_type": "code",
   "execution_count": 17,
   "metadata": {
    "colab": {
     "base_uri": "https://localhost:8080/"
    },
    "id": "3ddfol9HsD6Z",
    "outputId": "ec857db5-6354-4382-ff11-9c0baa2ba939"
   },
   "outputs": [
    {
     "data": {
      "text/plain": [
       "Uttar Pradesh                  10100\n",
       "Madhya Pradesh                  6889\n",
       "Karnataka                       6318\n",
       "Bihar                           5805\n",
       "Assam                           4306\n",
       "Tamil Nadu                      4067\n",
       "Odisha                          4061\n",
       "Rajasthan                       3867\n",
       "Maharashtra                     3785\n",
       "Chhattisgarh                    3151\n",
       "West Bengal                     2886\n",
       "Andhra Pradesh                  2817\n",
       "Gujarat                         2483\n",
       "Haryana                         1803\n",
       "Telangana                       1643\n",
       "Uttarakhand                     1440\n",
       "Kerala                          1312\n",
       "Nagaland                        1144\n",
       "Punjab                           924\n",
       "Meghalaya                        847\n",
       "Himachal Pradesh                 787\n",
       "Arunachal Pradesh                777\n",
       "Jammu and Kashmir                467\n",
       "Tripura                          436\n",
       "Manipur                          398\n",
       "Jharkhand                        355\n",
       "Mizoram                          291\n",
       "Puducherry                       262\n",
       "Sikkim                           201\n",
       "Dadra and Nagar Haveli            65\n",
       "Andaman and Nicobar Islands       60\n",
       "Goa                               53\n",
       "Chandigarh                        27\n",
       "Name: State_Name, dtype: int64"
      ]
     },
     "execution_count": 17,
     "metadata": {},
     "output_type": "execute_result"
    }
   ],
   "source": [
    "df.State_Name.value_counts()"
   ]
  },
  {
   "cell_type": "code",
   "execution_count": 18,
   "metadata": {
    "colab": {
     "background_save": true
    },
    "id": "OqJC9ODyt1VF",
    "outputId": "4e589862-b801-49a2-c0e4-a977e45cfc17"
   },
   "outputs": [
    {
     "ename": "ModuleNotFoundError",
     "evalue": "No module named 'statistic'",
     "output_type": "error",
     "traceback": [
      "\u001b[1;31m---------------------------------------------------------------------------\u001b[0m",
      "\u001b[1;31mModuleNotFoundError\u001b[0m                       Traceback (most recent call last)",
      "\u001b[1;32m~\\AppData\\Local\\Temp/ipykernel_18292/2535480841.py\u001b[0m in \u001b[0;36m<module>\u001b[1;34m\u001b[0m\n\u001b[1;32m----> 1\u001b[1;33m \u001b[1;32mfrom\u001b[0m \u001b[0mstatistic\u001b[0m \u001b[1;32mimport\u001b[0m \u001b[0mstdev\u001b[0m\u001b[1;33m\u001b[0m\u001b[1;33m\u001b[0m\u001b[0m\n\u001b[0m\u001b[0;32m      2\u001b[0m \u001b[1;32mfrom\u001b[0m \u001b[0mfractions\u001b[0m \u001b[1;32mimport\u001b[0m \u001b[0mFraction\u001b[0m \u001b[1;32mas\u001b[0m \u001b[0mfr\u001b[0m\u001b[1;33m\u001b[0m\u001b[1;33m\u001b[0m\u001b[0m\n\u001b[0;32m      3\u001b[0m \u001b[0msample1\u001b[0m\u001b[1;33m=\u001b[0m\u001b[0mdf\u001b[0m\u001b[1;33m[\u001b[0m\u001b[1;34m'Production'\u001b[0m\u001b[1;33m]\u001b[0m\u001b[1;33m.\u001b[0m\u001b[0msum\u001b[0m\u001b[1;33m(\u001b[0m\u001b[1;33m)\u001b[0m\u001b[1;33m\u001b[0m\u001b[1;33m\u001b[0m\u001b[0m\n\u001b[0;32m      4\u001b[0m \u001b[0mprint\u001b[0m\u001b[1;33m(\u001b[0m\u001b[1;34m\"standard deviation\"\u001b[0m\u001b[1;33m%\u001b[0m\u001b[1;33m(\u001b[0m\u001b[0mstdev\u001b[0m\u001b[1;33m)\u001b[0m\u001b[1;33m)\u001b[0m\u001b[1;33m\u001b[0m\u001b[1;33m\u001b[0m\u001b[0m\n",
      "\u001b[1;31mModuleNotFoundError\u001b[0m: No module named 'statistic'"
     ]
    }
   ],
   "source": [
    "from statistic import stdev\n",
    "from fractions import Fraction as fr\n",
    "sample1=df['Production'].sum()\n",
    "print(\"standard deviation\"%(stdev))"
   ]
  },
  {
   "cell_type": "code",
   "execution_count": 19,
   "metadata": {
    "colab": {
     "base_uri": "https://localhost:8080/"
    },
    "id": "b90Sf31T1Dz0",
    "outputId": "6b2e87ec-25e3-4f33-b3c3-1fa0bb5f9233"
   },
   "outputs": [
    {
     "data": {
      "text/plain": [
       "Rice                 4541\n",
       "Maize                4177\n",
       "Moong(Green Gram)    3126\n",
       "Urad                 2970\n",
       "Sesamum              2737\n",
       "                     ... \n",
       "Pear                    2\n",
       "other fibres            2\n",
       "Plums                   1\n",
       "Coffee                  1\n",
       "Apple                   1\n",
       "Name: Crop, Length: 122, dtype: int64"
      ]
     },
     "execution_count": 19,
     "metadata": {},
     "output_type": "execute_result"
    }
   ],
   "source": [
    "df.Crop.value_counts()"
   ]
  },
  {
   "cell_type": "code",
   "execution_count": null,
   "metadata": {
    "colab": {
     "base_uri": "https://localhost:8080/"
    },
    "id": "yVsRR2oB1HT5",
    "outputId": "0d699438-25c9-4ed4-f2c6-3e6ee2be7a4e"
   },
   "outputs": [],
   "source": []
  },
  {
   "cell_type": "code",
   "execution_count": 20,
   "metadata": {
    "colab": {
     "base_uri": "https://localhost:8080/"
    },
    "id": "5ZeBZlWv1opp",
    "outputId": "fcace8b4-085f-40b4-df4d-bc2fe35a7950"
   },
   "outputs": [
    {
     "name": "stdout",
     "output_type": "stream",
     "text": [
      "532702263.9\n"
     ]
    }
   ],
   "source": [
    "total = df.loc[df['State_Name'] == 'West Bengal', 'Production'].sum()\n",
    "print(total)"
   ]
  },
  {
   "cell_type": "code",
   "execution_count": 21,
   "metadata": {
    "colab": {
     "base_uri": "https://localhost:8080/"
    },
    "id": "gPGyybJc3Xug",
    "outputId": "d50942a7-012d-4680-8bc8-e3d7c32fcfa9"
   },
   "outputs": [
    {
     "ename": "SyntaxError",
     "evalue": "invalid syntax (Temp/ipykernel_18292/2142886146.py, line 1)",
     "output_type": "error",
     "traceback": [
      "\u001b[1;36m  File \u001b[1;32m\"C:\\Users\\saipo\\AppData\\Local\\Temp/ipykernel_18292/2142886146.py\"\u001b[1;36m, line \u001b[1;32m1\u001b[0m\n\u001b[1;33m    x = df.loc[df['State_Name'] == 'West Bengal', '2005'].\u001b[0m\n\u001b[1;37m                                                          ^\u001b[0m\n\u001b[1;31mSyntaxError\u001b[0m\u001b[1;31m:\u001b[0m invalid syntax\n"
     ]
    }
   ],
   "source": [
    "x = df.loc[df['State_Name'] == 'West Bengal', '2005'].\n",
    "print(total)"
   ]
  },
  {
   "cell_type": "code",
   "execution_count": 22,
   "metadata": {
    "colab": {
     "base_uri": "https://localhost:8080/",
     "height": 134
    },
    "id": "8SeniZIb40fd",
    "outputId": "e3b83a14-33a5-4788-88c0-68f0bfc4a37c"
   },
   "outputs": [
    {
     "ename": "SyntaxError",
     "evalue": "invalid syntax (Temp/ipykernel_18292/2533389214.py, line 1)",
     "output_type": "error",
     "traceback": [
      "\u001b[1;36m  File \u001b[1;32m\"C:\\Users\\saipo\\AppData\\Local\\Temp/ipykernel_18292/2533389214.py\"\u001b[1;36m, line \u001b[1;32m1\u001b[0m\n\u001b[1;33m    df.loc[df.'State_Name'=='West Bengal',['Crop_Year','Production']]\u001b[0m\n\u001b[1;37m              ^\u001b[0m\n\u001b[1;31mSyntaxError\u001b[0m\u001b[1;31m:\u001b[0m invalid syntax\n"
     ]
    }
   ],
   "source": [
    "df.loc[df.'State_Name'=='West Bengal',['Crop_Year','Production']]"
   ]
  },
  {
   "cell_type": "code",
   "execution_count": 47,
   "metadata": {},
   "outputs": [
    {
     "name": "stdout",
     "output_type": "stream",
     "text": [
      "Crop_Year      480868.0\n",
      "Production    4937115.7\n",
      "dtype: float64\n"
     ]
    }
   ],
   "source": [
    "x=df[(df.Crop==\"Maize\")&(df.Crop_Year==2012)].loc[:,['Crop_Year','Production']].sum()\n",
    "print(x)"
   ]
  },
  {
   "cell_type": "code",
   "execution_count": 41,
   "metadata": {
    "colab": {
     "base_uri": "https://localhost:8080/"
    },
    "id": "BK7gXyNX6ARk",
    "outputId": "eabf8f7e-27ec-4165-aabf-74e61ec0cffd"
   },
   "outputs": [
    {
     "name": "stdout",
     "output_type": "stream",
     "text": [
      "Crop_Year       77883.0\n",
      "Production    3376800.0\n",
      "dtype: float64\n"
     ]
    }
   ],
   "source": [
    "x=df[(df.State_Name=='Haryana')&(df.Crop_Year==1997)].loc[:,['Crop_Year','Production']].sum()\n",
    "print(x)"
   ]
  },
  {
   "cell_type": "code",
   "execution_count": 25,
   "metadata": {
    "colab": {
     "base_uri": "https://localhost:8080/"
    },
    "id": "qScXVo4Q_KoH",
    "outputId": "a37ef558-7384-4794-93c6-6c50d913ef20"
   },
   "outputs": [
    {
     "name": "stdout",
     "output_type": "stream",
     "text": [
      "0.0\n"
     ]
    }
   ],
   "source": [
    "x=df[(df.State_Name=='MUMBAI')].loc[:,'Production'].sum()\n",
    "print(x)"
   ]
  },
  {
   "cell_type": "code",
   "execution_count": 99,
   "metadata": {
    "colab": {
     "base_uri": "https://localhost:8080/"
    },
    "id": "_Nhjd-cMBuhv",
    "outputId": "a379c276-7737-4cc1-c6de-3675bcbb5186"
   },
   "outputs": [
    {
     "name": "stdout",
     "output_type": "stream",
     "text": [
      "45168274999.649994\n"
     ]
    }
   ],
   "source": [
    "total = df['Production'].sum()\n",
    "print(total)"
   ]
  },
  {
   "cell_type": "code",
   "execution_count": 100,
   "metadata": {
    "colab": {
     "base_uri": "https://localhost:8080/"
    },
    "id": "kevMDx9HC11y",
    "outputId": "362c8525-0791-444a-e116-7cdfb7ca1f2b"
   },
   "outputs": [
    {
     "data": {
      "text/plain": [
       "621031.9533575778"
      ]
     },
     "execution_count": 100,
     "metadata": {},
     "output_type": "execute_result"
    }
   ],
   "source": [
    "total/72731"
   ]
  },
  {
   "cell_type": "code",
   "execution_count": 104,
   "metadata": {
    "colab": {
     "base_uri": "https://localhost:8080/"
    },
    "id": "mRfqP9T7C_AH",
    "outputId": "0d9b6a53-d69e-4e98-b9c7-a79ed1c3ce86"
   },
   "outputs": [
    {
     "data": {
      "text/plain": [
       "0.0"
      ]
     },
     "execution_count": 104,
     "metadata": {},
     "output_type": "execute_result"
    }
   ],
   "source": [
    "total.std()"
   ]
  },
  {
   "cell_type": "code",
   "execution_count": 106,
   "metadata": {
    "colab": {
     "base_uri": "https://localhost:8080/"
    },
    "id": "n8VsFHM-DTe-",
    "outputId": "bc51d57b-b4c3-486c-ff11-00d481024a79"
   },
   "outputs": [
    {
     "name": "stdout",
     "output_type": "stream",
     "text": [
      "17497558.28783218\n"
     ]
    }
   ],
   "source": [
    "total = df['Production'].std()\n",
    "print(total)\n"
   ]
  },
  {
   "cell_type": "code",
   "execution_count": 128,
   "metadata": {
    "colab": {
     "base_uri": "https://localhost:8080/"
    },
    "id": "zrfMNGT2DoDR",
    "outputId": "75ab0dc0-5e83-46b0-d2e0-a3c0e7cf4997"
   },
   "outputs": [
    {
     "name": "stdout",
     "output_type": "stream",
     "text": [
      "State_Name    0.0\n",
      "Crop          0.0\n",
      "Production    0.0\n",
      "dtype: float64\n"
     ]
    }
   ],
   "source": [
    "x=df[(df.State_Name=='Maharashtra')&(df.Crop=='Coconut ')].loc[:,['State_Name','Crop','Production']].sum()\n",
    "print(x)"
   ]
  },
  {
   "cell_type": "code",
   "execution_count": 54,
   "metadata": {},
   "outputs": [
    {
     "name": "stdout",
     "output_type": "stream",
     "text": [
      "Crop_Year        106496.0\n",
      "Production    142182643.0\n",
      "dtype: float64\n"
     ]
    }
   ],
   "source": [
    "x=df[(df.State_Name=='Goa')].loc[:,['Crop_Year','Production']].sum()\n",
    "print(x)"
   ]
  },
  {
   "cell_type": "code",
   "execution_count": 50,
   "metadata": {
    "id": "vtMIBEcNEDTF"
   },
   "outputs": [
    {
     "name": "stdout",
     "output_type": "stream",
     "text": [
      "11868.485514513666\n"
     ]
    }
   ],
   "source": [
    "total = df['Area'].mean()\n",
    "print(total)\n"
   ]
  },
  {
   "cell_type": "code",
   "execution_count": 70,
   "metadata": {},
   "outputs": [
    {
     "ename": "SyntaxError",
     "evalue": "invalid syntax (Temp/ipykernel_18292/415758039.py, line 1)",
     "output_type": "error",
     "traceback": [
      "\u001b[1;36m  File \u001b[1;32m\"C:\\Users\\saipo\\AppData\\Local\\Temp/ipykernel_18292/415758039.py\"\u001b[1;36m, line \u001b[1;32m1\u001b[0m\n\u001b[1;33m    x=df[(df.Crop=='Rice')&&(df.Season==[\"Autumn\",\"Summer\",\"Winter\"])].loc[:,['State_Name','Crop','Production']].sum()\u001b[0m\n\u001b[1;37m                           ^\u001b[0m\n\u001b[1;31mSyntaxError\u001b[0m\u001b[1;31m:\u001b[0m invalid syntax\n"
     ]
    }
   ],
   "source": [
    "x=df[(df.Crop=='Rice')&&(df.Season==[\"Autumn\",\"Summer\",\"Winter\"])].loc[:,['State_Name','Crop','Production']].sum()\n",
    "print(x)"
   ]
  },
  {
   "cell_type": "code",
   "execution_count": null,
   "metadata": {},
   "outputs": [],
   "source": [
    "from sklearn.metrics import mean_squared_error  \n",
    "\n",
    "mean_squared_error(Y_act,Y_pred)  \n"
   ]
  },
  {
   "cell_type": "code",
   "execution_count": 79,
   "metadata": {},
   "outputs": [
    {
     "name": "stdout",
     "output_type": "stream",
     "text": [
      "Crop_Year    2014.00\n",
      "Area            0.07\n",
      "dtype: float64\n"
     ]
    }
   ],
   "source": [
    "x=df[(df.Crop_Year==2014)].loc[:,['Crop_Year','Area']].min()\n",
    "print(x)"
   ]
  },
  {
   "cell_type": "code",
   "execution_count": 84,
   "metadata": {},
   "outputs": [
    {
     "name": "stdout",
     "output_type": "stream",
     "text": [
      "Crop_Year      236944.0\n",
      "Production    9647100.0\n",
      "dtype: float64\n"
     ]
    }
   ],
   "source": [
    "x=df[(df.State_Name=='Haryana')&(df.Crop_Year==2008)].loc[:,['Crop_Year','Production']].sum()\n",
    "print(x)"
   ]
  },
  {
   "cell_type": "code",
   "execution_count": null,
   "metadata": {},
   "outputs": [],
   "source": []
  },
  {
   "cell_type": "code",
   "execution_count": null,
   "metadata": {},
   "outputs": [],
   "source": []
  }
 ],
 "metadata": {
  "colab": {
   "collapsed_sections": [],
   "provenance": []
  },
  "kernelspec": {
   "display_name": "Python 3 (ipykernel)",
   "language": "python",
   "name": "python3"
  },
  "language_info": {
   "codemirror_mode": {
    "name": "ipython",
    "version": 3
   },
   "file_extension": ".py",
   "mimetype": "text/x-python",
   "name": "python",
   "nbconvert_exporter": "python",
   "pygments_lexer": "ipython3",
   "version": "3.9.7"
  }
 },
 "nbformat": 4,
 "nbformat_minor": 1
}
