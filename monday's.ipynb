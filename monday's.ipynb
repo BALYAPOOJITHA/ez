{
 "cells": [
  {
   "cell_type": "markdown",
   "id": "2800ec17",
   "metadata": {},
   "source": [
    "week-2\n"
   ]
  },
  {
   "cell_type": "code",
   "execution_count": 9,
   "id": "40068ba5",
   "metadata": {},
   "outputs": [
    {
     "name": "stdout",
     "output_type": "stream",
     "text": [
      "8\n",
      "10 98 3 33 12 22 21 11\n",
      "[10, 98, 12, 22, 3, 33, 21, 11]\n"
     ]
    }
   ],
   "source": [
    "n=int(input())\n",
    "x=input().split()\n",
    "x=[int(i) for i in x]\n",
    "e=[]\n",
    "o=[]\n",
    "a=[]\n",
    "for i in x:\n",
    "    if(i%2==0):\n",
    "        e.append(i)\n",
    "    else:\n",
    "        o.append(i)\n",
    "#e.sort()\n",
    "#o.sort()\n",
    "a=e+o\n",
    "print(a)\n",
    "    "
   ]
  },
  {
   "cell_type": "code",
   "execution_count": 14,
   "id": "d2699b64",
   "metadata": {},
   "outputs": [
    {
     "name": "stdout",
     "output_type": "stream",
     "text": [
      "{'name': 'abc', 'age': 100, 'branch': 'ai'}\n"
     ]
    }
   ],
   "source": [
    "keys=['name','age','branch']\n",
    "values=['abc',100,'ai']\n",
    "res={keys[i]:values[i] for i in range (len(values))}\n",
    "print(res)\n",
    "\n"
   ]
  },
  {
   "cell_type": "code",
   "execution_count": 21,
   "id": "2e65669a",
   "metadata": {},
   "outputs": [
    {
     "name": "stdout",
     "output_type": "stream",
     "text": [
      "{(0, 3): 1, (1, 0): 2, (1, 4): 3, (2, 3): 4}\n"
     ]
    }
   ],
   "source": [
    "n=[[0,0,0,1,0],[2,0,0,0,3],[0,0,0,4,0]]\n",
    "dic={}\n",
    "for i in range (len(n)):\n",
    "    for j in range(len(n[i])):\n",
    "        if(n[i][j]!=0):\n",
    "            dict[i,j]=n[i][j]\n",
    "            \n",
    "print(dict)"
   ]
  },
  {
   "cell_type": "code",
   "execution_count": 34,
   "id": "0ff20b88",
   "metadata": {},
   "outputs": [],
   "source": [
    "s=\"level\"\n",
    "for i in range(len(s)):\n",
    "    if s[i] not in s:\n",
    "        print(s[i])\n",
    "        "
   ]
  },
  {
   "cell_type": "code",
   "execution_count": 36,
   "id": "7751b71a",
   "metadata": {},
   "outputs": [
    {
     "name": "stdout",
     "output_type": "stream",
     "text": [
      "the non -repeated char is v\n"
     ]
    }
   ],
   "source": [
    "str=\"level\"\n",
    "for i in str:\n",
    "    count=0\n",
    "    for j in str:\n",
    "        if i==j:\n",
    "            count+=1\n",
    "        if(count>1):\n",
    "            break\n",
    "    if(count==1):\n",
    "        print(\"the non -repeated char is\",i)"
   ]
  },
  {
   "cell_type": "code",
   "execution_count": null,
   "id": "c1cf09f4",
   "metadata": {},
   "outputs": [],
   "source": []
  }
 ],
 "metadata": {
  "kernelspec": {
   "display_name": "Python 3 (ipykernel)",
   "language": "python",
   "name": "python3"
  },
  "language_info": {
   "codemirror_mode": {
    "name": "ipython",
    "version": 3
   },
   "file_extension": ".py",
   "mimetype": "text/x-python",
   "name": "python",
   "nbconvert_exporter": "python",
   "pygments_lexer": "ipython3",
   "version": "3.9.7"
  }
 },
 "nbformat": 4,
 "nbformat_minor": 5
}
